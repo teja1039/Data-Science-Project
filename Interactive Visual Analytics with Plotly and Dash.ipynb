{
 "cells": [
  {
   "cell_type": "code",
   "execution_count": null,
   "id": "15fb6e9a",
   "metadata": {},
   "outputs": [
    {
     "name": "stdout",
     "output_type": "stream",
     "text": [
      "Dash is running on http://127.0.0.1:8050/\n",
      "\n",
      "Dash is running on http://127.0.0.1:8050/\n",
      "\n",
      "Dash is running on http://127.0.0.1:8050/\n",
      "\n",
      "Dash is running on http://127.0.0.1:8050/\n",
      "\n",
      "Dash is running on http://127.0.0.1:8050/\n",
      "\n",
      "Dash is running on http://127.0.0.1:8050/\n",
      "\n",
      "Dash is running on http://127.0.0.1:8050/\n",
      "\n",
      "Dash is running on http://127.0.0.1:8050/\n",
      "\n"
     ]
    },
    {
     "name": "stderr",
     "output_type": "stream",
     "text": [
      "INFO:__main__:Dash is running on http://127.0.0.1:8050/\n",
      "\n"
     ]
    },
    {
     "name": "stdout",
     "output_type": "stream",
     "text": [
      " * Serving Flask app \"__main__\" (lazy loading)\n",
      " * Environment: production\n",
      "\u001b[31m   WARNING: This is a development server. Do not use it in a production deployment.\u001b[0m\n",
      "\u001b[2m   Use a production WSGI server instead.\u001b[0m\n",
      " * Debug mode: off\n"
     ]
    },
    {
     "name": "stderr",
     "output_type": "stream",
     "text": [
      " * Running on http://127.0.0.1:8050/ (Press CTRL+C to quit)\n",
      "INFO:werkzeug: * Running on http://127.0.0.1:8050/ (Press CTRL+C to quit)\n",
      "127.0.0.1 - - [23/Jun/2022 14:59:45] \"GET / HTTP/1.1\" 200 -\n",
      "INFO:werkzeug:127.0.0.1 - - [23/Jun/2022 14:59:45] \"GET / HTTP/1.1\" 200 -\n",
      "127.0.0.1 - - [23/Jun/2022 14:59:45] \"GET /_dash-layout HTTP/1.1\" 200 -\n",
      "INFO:werkzeug:127.0.0.1 - - [23/Jun/2022 14:59:45] \"GET /_dash-layout HTTP/1.1\" 200 -\n",
      "127.0.0.1 - - [23/Jun/2022 14:59:45] \"GET /_dash-dependencies HTTP/1.1\" 200 -\n",
      "INFO:werkzeug:127.0.0.1 - - [23/Jun/2022 14:59:45] \"GET /_dash-dependencies HTTP/1.1\" 200 -\n",
      "127.0.0.1 - - [23/Jun/2022 14:59:45] \"GET /_dash-component-suites/dash/dcc/async-dropdown.js HTTP/1.1\" 200 -\n",
      "INFO:werkzeug:127.0.0.1 - - [23/Jun/2022 14:59:45] \"GET /_dash-component-suites/dash/dcc/async-dropdown.js HTTP/1.1\" 200 -\n",
      "127.0.0.1 - - [23/Jun/2022 14:59:45] \"GET /_dash-component-suites/dash/dcc/async-graph.js HTTP/1.1\" 200 -\n",
      "INFO:werkzeug:127.0.0.1 - - [23/Jun/2022 14:59:45] \"GET /_dash-component-suites/dash/dcc/async-graph.js HTTP/1.1\" 200 -\n",
      "127.0.0.1 - - [23/Jun/2022 14:59:45] \"GET /_dash-component-suites/dash/dcc/async-plotlyjs.js HTTP/1.1\" 200 -\n",
      "INFO:werkzeug:127.0.0.1 - - [23/Jun/2022 14:59:45] \"GET /_dash-component-suites/dash/dcc/async-plotlyjs.js HTTP/1.1\" 200 -\n",
      "127.0.0.1 - - [23/Jun/2022 14:59:45] \"GET /_dash-component-suites/dash/dcc/async-slider.js HTTP/1.1\" 200 -\n",
      "INFO:werkzeug:127.0.0.1 - - [23/Jun/2022 14:59:45] \"GET /_dash-component-suites/dash/dcc/async-slider.js HTTP/1.1\" 200 -\n",
      "127.0.0.1 - - [23/Jun/2022 14:59:45] \"POST /_dash-update-component HTTP/1.1\" 200 -\n",
      "INFO:werkzeug:127.0.0.1 - - [23/Jun/2022 14:59:45] \"POST /_dash-update-component HTTP/1.1\" 200 -\n",
      "127.0.0.1 - - [23/Jun/2022 14:59:46] \"POST /_dash-update-component HTTP/1.1\" 200 -\n",
      "INFO:werkzeug:127.0.0.1 - - [23/Jun/2022 14:59:46] \"POST /_dash-update-component HTTP/1.1\" 200 -\n",
      "127.0.0.1 - - [23/Jun/2022 14:59:49] \"POST /_dash-update-component HTTP/1.1\" 200 -\n",
      "INFO:werkzeug:127.0.0.1 - - [23/Jun/2022 14:59:49] \"POST /_dash-update-component HTTP/1.1\" 200 -\n",
      "127.0.0.1 - - [23/Jun/2022 14:59:49] \"POST /_dash-update-component HTTP/1.1\" 200 -\n",
      "INFO:werkzeug:127.0.0.1 - - [23/Jun/2022 14:59:49] \"POST /_dash-update-component HTTP/1.1\" 200 -\n",
      "127.0.0.1 - - [23/Jun/2022 14:59:52] \"POST /_dash-update-component HTTP/1.1\" 200 -\n",
      "INFO:werkzeug:127.0.0.1 - - [23/Jun/2022 14:59:52] \"POST /_dash-update-component HTTP/1.1\" 200 -\n",
      "127.0.0.1 - - [23/Jun/2022 14:59:52] \"POST /_dash-update-component HTTP/1.1\" 200 -\n",
      "INFO:werkzeug:127.0.0.1 - - [23/Jun/2022 14:59:52] \"POST /_dash-update-component HTTP/1.1\" 200 -\n",
      "127.0.0.1 - - [23/Jun/2022 14:59:56] \"POST /_dash-update-component HTTP/1.1\" 200 -\n",
      "INFO:werkzeug:127.0.0.1 - - [23/Jun/2022 14:59:56] \"POST /_dash-update-component HTTP/1.1\" 200 -\n",
      "127.0.0.1 - - [23/Jun/2022 14:59:56] \"POST /_dash-update-component HTTP/1.1\" 200 -\n",
      "INFO:werkzeug:127.0.0.1 - - [23/Jun/2022 14:59:56] \"POST /_dash-update-component HTTP/1.1\" 200 -\n",
      "127.0.0.1 - - [23/Jun/2022 15:00:01] \"POST /_dash-update-component HTTP/1.1\" 200 -\n",
      "INFO:werkzeug:127.0.0.1 - - [23/Jun/2022 15:00:01] \"POST /_dash-update-component HTTP/1.1\" 200 -\n",
      "127.0.0.1 - - [23/Jun/2022 15:00:01] \"POST /_dash-update-component HTTP/1.1\" 200 -\n",
      "INFO:werkzeug:127.0.0.1 - - [23/Jun/2022 15:00:01] \"POST /_dash-update-component HTTP/1.1\" 200 -\n",
      "127.0.0.1 - - [23/Jun/2022 15:02:36] \"POST /_dash-update-component HTTP/1.1\" 200 -\n",
      "INFO:werkzeug:127.0.0.1 - - [23/Jun/2022 15:02:36] \"POST /_dash-update-component HTTP/1.1\" 200 -\n",
      "127.0.0.1 - - [23/Jun/2022 15:02:36] \"POST /_dash-update-component HTTP/1.1\" 200 -\n",
      "INFO:werkzeug:127.0.0.1 - - [23/Jun/2022 15:02:36] \"POST /_dash-update-component HTTP/1.1\" 200 -\n",
      "127.0.0.1 - - [23/Jun/2022 15:06:52] \"GET / HTTP/1.1\" 200 -\n",
      "INFO:werkzeug:127.0.0.1 - - [23/Jun/2022 15:06:52] \"GET / HTTP/1.1\" 200 -\n",
      "127.0.0.1 - - [23/Jun/2022 15:06:52] \"GET /_dash-component-suites/dash/deps/polyfill@7.v2_4_1m1653729391.12.1.min.js HTTP/1.1\" 200 -\n",
      "INFO:werkzeug:127.0.0.1 - - [23/Jun/2022 15:06:52] \"GET /_dash-component-suites/dash/deps/polyfill@7.v2_4_1m1653729391.12.1.min.js HTTP/1.1\" 200 -\n",
      "127.0.0.1 - - [23/Jun/2022 15:06:52] \"GET /_dash-component-suites/dash/deps/react@16.v2_4_1m1653729391.14.0.min.js HTTP/1.1\" 200 -\n",
      "INFO:werkzeug:127.0.0.1 - - [23/Jun/2022 15:06:52] \"GET /_dash-component-suites/dash/deps/react@16.v2_4_1m1653729391.14.0.min.js HTTP/1.1\" 200 -\n",
      "127.0.0.1 - - [23/Jun/2022 15:06:53] \"GET /_dash-component-suites/dash/deps/react-dom@16.v2_4_1m1653729391.14.0.min.js HTTP/1.1\" 200 -\n",
      "INFO:werkzeug:127.0.0.1 - - [23/Jun/2022 15:06:53] \"GET /_dash-component-suites/dash/deps/react-dom@16.v2_4_1m1653729391.14.0.min.js HTTP/1.1\" 200 -\n",
      "127.0.0.1 - - [23/Jun/2022 15:06:53] \"GET /_dash-component-suites/dash/deps/prop-types@15.v2_4_1m1653729391.8.1.min.js HTTP/1.1\" 200 -\n",
      "INFO:werkzeug:127.0.0.1 - - [23/Jun/2022 15:06:53] \"GET /_dash-component-suites/dash/deps/prop-types@15.v2_4_1m1653729391.8.1.min.js HTTP/1.1\" 200 -\n",
      "127.0.0.1 - - [23/Jun/2022 15:06:53] \"GET /_dash-component-suites/dash/dash-renderer/build/dash_renderer.v2_4_1m1653729391.min.js HTTP/1.1\" 200 -\n",
      "INFO:werkzeug:127.0.0.1 - - [23/Jun/2022 15:06:53] \"GET /_dash-component-suites/dash/dash-renderer/build/dash_renderer.v2_4_1m1653729391.min.js HTTP/1.1\" 200 -\n",
      "127.0.0.1 - - [23/Jun/2022 15:06:53] \"GET /_dash-component-suites/dash/dcc/dash_core_components.v2_4_0m1653729391.js HTTP/1.1\" 200 -\n",
      "INFO:werkzeug:127.0.0.1 - - [23/Jun/2022 15:06:53] \"GET /_dash-component-suites/dash/dcc/dash_core_components.v2_4_0m1653729391.js HTTP/1.1\" 200 -\n",
      "127.0.0.1 - - [23/Jun/2022 15:06:53] \"GET /_dash-component-suites/dash/dcc/dash_core_components-shared.v2_4_0m1653729391.js HTTP/1.1\" 200 -\n",
      "INFO:werkzeug:127.0.0.1 - - [23/Jun/2022 15:06:53] \"GET /_dash-component-suites/dash/dcc/dash_core_components-shared.v2_4_0m1653729391.js HTTP/1.1\" 200 -\n",
      "127.0.0.1 - - [23/Jun/2022 15:06:53] \"GET /_dash-component-suites/dash/html/dash_html_components.v2_0_3m1653729391.min.js HTTP/1.1\" 200 -\n",
      "127.0.0.1 - - [23/Jun/2022 15:06:53] \"GET /_dash-component-suites/dash/dash_table/bundle.v5_1_2m1653729391.js HTTP/1.1\" 200 -\n",
      "INFO:werkzeug:127.0.0.1 - - [23/Jun/2022 15:06:53] \"GET /_dash-component-suites/dash/html/dash_html_components.v2_0_3m1653729391.min.js HTTP/1.1\" 200 -\n",
      "INFO:werkzeug:127.0.0.1 - - [23/Jun/2022 15:06:53] \"GET /_dash-component-suites/dash/dash_table/bundle.v5_1_2m1653729391.js HTTP/1.1\" 200 -\n",
      "127.0.0.1 - - [23/Jun/2022 15:06:53] \"GET /_dash-dependencies HTTP/1.1\" 200 -\n",
      "INFO:werkzeug:127.0.0.1 - - [23/Jun/2022 15:06:53] \"GET /_dash-dependencies HTTP/1.1\" 200 -\n",
      "127.0.0.1 - - [23/Jun/2022 15:06:53] \"GET /_dash-layout HTTP/1.1\" 200 -\n",
      "INFO:werkzeug:127.0.0.1 - - [23/Jun/2022 15:06:53] \"GET /_dash-layout HTTP/1.1\" 200 -\n",
      "127.0.0.1 - - [23/Jun/2022 15:06:53] \"GET /_dash-component-suites/dash/dcc/async-dropdown.js HTTP/1.1\" 200 -\n",
      "INFO:werkzeug:127.0.0.1 - - [23/Jun/2022 15:06:53] \"GET /_dash-component-suites/dash/dcc/async-dropdown.js HTTP/1.1\" 200 -\n",
      "127.0.0.1 - - [23/Jun/2022 15:06:53] \"GET /_dash-component-suites/dash/dcc/async-graph.js HTTP/1.1\" 200 -\n",
      "INFO:werkzeug:127.0.0.1 - - [23/Jun/2022 15:06:53] \"GET /_dash-component-suites/dash/dcc/async-graph.js HTTP/1.1\" 200 -\n",
      "127.0.0.1 - - [23/Jun/2022 15:06:53] \"GET /_dash-component-suites/dash/dcc/async-slider.js HTTP/1.1\" 200 -\n",
      "127.0.0.1 - - [23/Jun/2022 15:06:53] \"GET /_dash-component-suites/dash/dcc/async-plotlyjs.js HTTP/1.1\" 200 -\n",
      "INFO:werkzeug:127.0.0.1 - - [23/Jun/2022 15:06:53] \"GET /_dash-component-suites/dash/dcc/async-slider.js HTTP/1.1\" 200 -\n",
      "INFO:werkzeug:127.0.0.1 - - [23/Jun/2022 15:06:53] \"GET /_dash-component-suites/dash/dcc/async-plotlyjs.js HTTP/1.1\" 200 -\n",
      "127.0.0.1 - - [23/Jun/2022 15:06:53] \"POST /_dash-update-component HTTP/1.1\" 200 -\n",
      "127.0.0.1 - - [23/Jun/2022 15:06:54] \"POST /_dash-update-component HTTP/1.1\" 200 -\n",
      "INFO:werkzeug:127.0.0.1 - - [23/Jun/2022 15:06:53] \"POST /_dash-update-component HTTP/1.1\" 200 -\n",
      "INFO:werkzeug:127.0.0.1 - - [23/Jun/2022 15:06:54] \"POST /_dash-update-component HTTP/1.1\" 200 -\n",
      "127.0.0.1 - - [23/Jun/2022 15:07:34] \"GET / HTTP/1.1\" 200 -\n",
      "INFO:werkzeug:127.0.0.1 - - [23/Jun/2022 15:07:34] \"GET / HTTP/1.1\" 200 -\n",
      "127.0.0.1 - - [23/Jun/2022 15:07:35] \"GET /_dash-layout HTTP/1.1\" 200 -\n",
      "INFO:werkzeug:127.0.0.1 - - [23/Jun/2022 15:07:35] \"GET /_dash-layout HTTP/1.1\" 200 -\n",
      "127.0.0.1 - - [23/Jun/2022 15:07:35] \"GET /_dash-dependencies HTTP/1.1\" 200 -\n"
     ]
    },
    {
     "name": "stderr",
     "output_type": "stream",
     "text": [
      "INFO:werkzeug:127.0.0.1 - - [23/Jun/2022 15:07:35] \"GET /_dash-dependencies HTTP/1.1\" 200 -\n",
      "127.0.0.1 - - [23/Jun/2022 15:07:35] \"GET /_dash-component-suites/dash/dcc/async-dropdown.js HTTP/1.1\" 200 -\n",
      "INFO:werkzeug:127.0.0.1 - - [23/Jun/2022 15:07:35] \"GET /_dash-component-suites/dash/dcc/async-dropdown.js HTTP/1.1\" 200 -\n",
      "127.0.0.1 - - [23/Jun/2022 15:07:35] \"GET /_dash-component-suites/dash/dcc/async-graph.js HTTP/1.1\" 200 -\n",
      "INFO:werkzeug:127.0.0.1 - - [23/Jun/2022 15:07:35] \"GET /_dash-component-suites/dash/dcc/async-graph.js HTTP/1.1\" 200 -\n",
      "127.0.0.1 - - [23/Jun/2022 15:07:35] \"GET /_dash-component-suites/dash/dcc/async-slider.js HTTP/1.1\" 200 -\n",
      "INFO:werkzeug:127.0.0.1 - - [23/Jun/2022 15:07:35] \"GET /_dash-component-suites/dash/dcc/async-slider.js HTTP/1.1\" 200 -\n",
      "127.0.0.1 - - [23/Jun/2022 15:07:35] \"GET /_dash-component-suites/dash/dcc/async-plotlyjs.js HTTP/1.1\" 200 -\n",
      "INFO:werkzeug:127.0.0.1 - - [23/Jun/2022 15:07:35] \"GET /_dash-component-suites/dash/dcc/async-plotlyjs.js HTTP/1.1\" 200 -\n",
      "127.0.0.1 - - [23/Jun/2022 15:07:35] \"POST /_dash-update-component HTTP/1.1\" 200 -\n",
      "INFO:werkzeug:127.0.0.1 - - [23/Jun/2022 15:07:35] \"POST /_dash-update-component HTTP/1.1\" 200 -\n",
      "127.0.0.1 - - [23/Jun/2022 15:07:36] \"POST /_dash-update-component HTTP/1.1\" 200 -\n",
      "INFO:werkzeug:127.0.0.1 - - [23/Jun/2022 15:07:36] \"POST /_dash-update-component HTTP/1.1\" 200 -\n",
      "127.0.0.1 - - [23/Jun/2022 15:09:46] \"POST /_dash-update-component HTTP/1.1\" 200 -\n",
      "INFO:werkzeug:127.0.0.1 - - [23/Jun/2022 15:09:46] \"POST /_dash-update-component HTTP/1.1\" 200 -\n",
      "127.0.0.1 - - [23/Jun/2022 15:09:47] \"POST /_dash-update-component HTTP/1.1\" 200 -\n",
      "INFO:werkzeug:127.0.0.1 - - [23/Jun/2022 15:09:47] \"POST /_dash-update-component HTTP/1.1\" 200 -\n"
     ]
    }
   ],
   "source": [
    "#Import required libraries\n",
    "import pandas as pd\n",
    "import dash\n",
    "from dash import Dash, dcc, html, Input, Output\n",
    "import plotly.express as px\n",
    "\n",
    "# Read the airline data into pandas dataframe\n",
    "spacex_df = pd.read_csv(\"spacex_launch_dash.csv\")\n",
    "max_payload = spacex_df['Payload Mass (kg)'].max()\n",
    "min_payload = spacex_df['Payload Mass (kg)'].min()\n",
    "\n",
    "# Create a dash application\n",
    "app = dash.Dash(__name__)\n",
    "\n",
    "# Create an app layout\n",
    "app.layout = html.Div(children=[html.H1('SpaceX Launch Records Dashboard',\n",
    "                                        style={'textAlign': 'center', 'color': '#503D36',\n",
    "                                               'font-size': 40}),\n",
    "                                # TASK 1: Add a dropdown list to enable Launch Site selection\n",
    "                                # The default select value is for ALL sites\n",
    "                                dcc.Dropdown(id='site-dropdown',\n",
    "                                             options=[\n",
    "                                                 {'label': 'All Sites', 'value': 'ALL'},\n",
    "                                                 {'label': 'CCAFS LC-40', 'value': 'CCAFS LC-40'},\n",
    "                                                 {'label':'CCAFS SLC-40', 'value':'CCAFS SLC-40'},\n",
    "                                                 {'label':'KSC LC-39A', 'value':'KSC LC-39A'},\n",
    "                                                 {'label':'VAFB SLC-4E', 'value':'VAFB SLC-4E'}\n",
    "                                             ],\n",
    "                                             value = 'ALL',\n",
    "                                             placeholder = \"site\",\n",
    "                                             searchable = True\n",
    "                                            ),\n",
    "                                html.Br(),\n",
    "\n",
    "                                # TASK 2: Add a pie chart to show the total successful launches count for all sites\n",
    "                                # If a specific launch site was selected, show the Success vs. Failed counts for the site\n",
    "                                html.Div(dcc.Graph(id='success-pie-chart')),\n",
    "                                html.Br(),\n",
    "\n",
    "                                html.P(\"Payload range (Kg):\"),\n",
    "                                # TASK 3: Add a slider to select payload range\n",
    "                                dcc.RangeSlider(id='payload-slider',\n",
    "                                               min = 0,\n",
    "                                               max = 10000,\n",
    "                                               step = 1000,\n",
    "                                               value = [spacex_df['Payload Mass (kg)'].loc[spacex_df['Payload Mass (kg)'].idxmin()],\n",
    "                                                        spacex_df['Payload Mass (kg)'].loc[spacex_df['Payload Mass (kg)'].idxmax()]]\n",
    "                                               ),\n",
    "\n",
    "                                # TASK 4: Add a scatter chart to show the correlation between payload and launch success\n",
    "                                html.Div(dcc.Graph(id='success-payload-scatter-chart')),\n",
    "                                ])\n",
    "\n",
    "# TASK 2:\n",
    "# Add a callback function for `site-dropdown` as input, `success-pie-chart` as output\n",
    "# Function decorator to specify function input and output\n",
    "@app.callback(Output(component_id='success-pie-chart', component_property='figure'),\n",
    "              Input(component_id='site-dropdown', component_property='value'))\n",
    "def get_pie_chart(entered_site):\n",
    "    filtered_df = spacex_df\n",
    "    if entered_site == 'ALL':\n",
    "        fig = px.pie(spacex_df, values='class', \n",
    "        names='Launch Site', \n",
    "        title='Total Success Launches by Site')\n",
    "        return fig\n",
    "    else:\n",
    "        fig = px.pie(spacex_df[spacex_df['Launch Site']==entered_site], \n",
    "        names='class', \n",
    "        title='Total Success Launches for Site '+entered_site,\n",
    "        color='class'\n",
    "#         color_discrete_map={1:rgb(99, 110, 250),\n",
    "#                             0:rgb(239, 85, 59)}\n",
    "        )\n",
    "        return fig\n",
    "\n",
    "# TASK 4:\n",
    "# Add a callback function for `site-dropdown` and `payload-slider` as inputs, `success-payload-scatter-chart` as output\n",
    "@app.callback(Output(component_id='success-payload-scatter-chart',component_property='figure'),\n",
    "              Input(component_id='site-dropdown',component_property='value'),\n",
    "              Input(component_id='payload-slider',component_property='value'))\n",
    "def get_scatter_chart(entered_site,entered_payload_range):\n",
    "    if entered_site == 'ALL':\n",
    "        fig = px.scatter(spacex_df.loc[(spacex_df['Payload Mass (kg)'] < entered_payload_range[1])\n",
    "                                       & (spacex_df['Payload Mass (kg)'] > entered_payload_range[0])],\n",
    "                         x=\"Payload Mass (kg)\",\n",
    "                         y=\"class\",\n",
    "                         color=\"Booster Version\")\n",
    "        return fig\n",
    "    else:\n",
    "        fig = px.scatter(spacex_df[spacex_df['Launch Site']==entered_site].loc[(spacex_df['Payload Mass (kg)'] < entered_payload_range[1])\n",
    "                                                                               & (spacex_df['Payload Mass (kg)'] > entered_payload_range[0])],\n",
    "                         x=\"Payload Mass (kg)\",\n",
    "                         y=\"class\",\n",
    "                         color=\"Booster Version\")\n",
    "        return fig\n",
    "\n",
    "# Run the app\n",
    "if __name__ == '__main__':\n",
    "    app.run_server()\n"
   ]
  },
  {
   "cell_type": "code",
   "execution_count": 6,
   "id": "ca2a0dfc",
   "metadata": {},
   "outputs": [
    {
     "data": {
      "text/plain": [
       "Unnamed: 0                    int64\n",
       "Flight Number                 int64\n",
       "Launch Site                  object\n",
       "class                         int64\n",
       "Payload Mass (kg)           float64\n",
       "Booster Version              object\n",
       "Booster Version Category     object\n",
       "dtype: object"
      ]
     },
     "execution_count": 6,
     "metadata": {},
     "output_type": "execute_result"
    }
   ],
   "source": [
    "spacex_df.dtypes"
   ]
  },
  {
   "cell_type": "code",
   "execution_count": 21,
   "id": "b6561236",
   "metadata": {},
   "outputs": [
    {
     "data": {
      "text/html": [
       "<div>\n",
       "<style scoped>\n",
       "    .dataframe tbody tr th:only-of-type {\n",
       "        vertical-align: middle;\n",
       "    }\n",
       "\n",
       "    .dataframe tbody tr th {\n",
       "        vertical-align: top;\n",
       "    }\n",
       "\n",
       "    .dataframe thead th {\n",
       "        text-align: right;\n",
       "    }\n",
       "</style>\n",
       "<table border=\"1\" class=\"dataframe\">\n",
       "  <thead>\n",
       "    <tr style=\"text-align: right;\">\n",
       "      <th></th>\n",
       "      <th>Unnamed: 0</th>\n",
       "      <th>Flight Number</th>\n",
       "      <th>Launch Site</th>\n",
       "      <th>class</th>\n",
       "      <th>Payload Mass (kg)</th>\n",
       "      <th>Booster Version</th>\n",
       "      <th>Booster Version Category</th>\n",
       "    </tr>\n",
       "  </thead>\n",
       "  <tbody>\n",
       "    <tr>\n",
       "      <th>0</th>\n",
       "      <td>0</td>\n",
       "      <td>1</td>\n",
       "      <td>CCAFS LC-40</td>\n",
       "      <td>0</td>\n",
       "      <td>0.0</td>\n",
       "      <td>F9 v1.0  B0003</td>\n",
       "      <td>v1.0</td>\n",
       "    </tr>\n",
       "    <tr>\n",
       "      <th>1</th>\n",
       "      <td>1</td>\n",
       "      <td>2</td>\n",
       "      <td>CCAFS LC-40</td>\n",
       "      <td>0</td>\n",
       "      <td>0.0</td>\n",
       "      <td>F9 v1.0  B0004</td>\n",
       "      <td>v1.0</td>\n",
       "    </tr>\n",
       "    <tr>\n",
       "      <th>2</th>\n",
       "      <td>2</td>\n",
       "      <td>3</td>\n",
       "      <td>CCAFS LC-40</td>\n",
       "      <td>0</td>\n",
       "      <td>525.0</td>\n",
       "      <td>F9 v1.0  B0005</td>\n",
       "      <td>v1.0</td>\n",
       "    </tr>\n",
       "    <tr>\n",
       "      <th>3</th>\n",
       "      <td>3</td>\n",
       "      <td>4</td>\n",
       "      <td>CCAFS LC-40</td>\n",
       "      <td>0</td>\n",
       "      <td>500.0</td>\n",
       "      <td>F9 v1.0  B0006</td>\n",
       "      <td>v1.0</td>\n",
       "    </tr>\n",
       "    <tr>\n",
       "      <th>4</th>\n",
       "      <td>4</td>\n",
       "      <td>5</td>\n",
       "      <td>CCAFS LC-40</td>\n",
       "      <td>0</td>\n",
       "      <td>677.0</td>\n",
       "      <td>F9 v1.0  B0007</td>\n",
       "      <td>v1.0</td>\n",
       "    </tr>\n",
       "  </tbody>\n",
       "</table>\n",
       "</div>"
      ],
      "text/plain": [
       "   Unnamed: 0  Flight Number  Launch Site  class  Payload Mass (kg)  \\\n",
       "0           0              1  CCAFS LC-40      0                0.0   \n",
       "1           1              2  CCAFS LC-40      0                0.0   \n",
       "2           2              3  CCAFS LC-40      0              525.0   \n",
       "3           3              4  CCAFS LC-40      0              500.0   \n",
       "4           4              5  CCAFS LC-40      0              677.0   \n",
       "\n",
       "  Booster Version Booster Version Category  \n",
       "0  F9 v1.0  B0003                     v1.0  \n",
       "1  F9 v1.0  B0004                     v1.0  \n",
       "2  F9 v1.0  B0005                     v1.0  \n",
       "3  F9 v1.0  B0006                     v1.0  \n",
       "4  F9 v1.0  B0007                     v1.0  "
      ]
     },
     "execution_count": 21,
     "metadata": {},
     "output_type": "execute_result"
    }
   ],
   "source": [
    "spacex_df.head()"
   ]
  },
  {
   "cell_type": "code",
   "execution_count": 38,
   "id": "f26184ae",
   "metadata": {},
   "outputs": [
    {
     "data": {
      "application/vnd.plotly.v1+json": {
       "config": {
        "plotlyServerURL": "https://plot.ly"
       },
       "data": [
        {
         "hovertemplate": "Booster Version=F9 v1.0  B0005<br>Payload Mass (kg)=%{x}<br>class=%{y}<extra></extra>",
         "legendgroup": "F9 v1.0  B0005",
         "marker": {
          "color": "#636efa",
          "symbol": "circle"
         },
         "mode": "markers",
         "name": "F9 v1.0  B0005",
         "orientation": "v",
         "showlegend": true,
         "type": "scatter",
         "x": [
          525
         ],
         "xaxis": "x",
         "y": [
          0
         ],
         "yaxis": "y"
        },
        {
         "hovertemplate": "Booster Version=F9 v1.0  B0006<br>Payload Mass (kg)=%{x}<br>class=%{y}<extra></extra>",
         "legendgroup": "F9 v1.0  B0006",
         "marker": {
          "color": "#EF553B",
          "symbol": "circle"
         },
         "mode": "markers",
         "name": "F9 v1.0  B0006",
         "orientation": "v",
         "showlegend": true,
         "type": "scatter",
         "x": [
          500
         ],
         "xaxis": "x",
         "y": [
          0
         ],
         "yaxis": "y"
        },
        {
         "hovertemplate": "Booster Version=F9 v1.0  B0007<br>Payload Mass (kg)=%{x}<br>class=%{y}<extra></extra>",
         "legendgroup": "F9 v1.0  B0007",
         "marker": {
          "color": "#00cc96",
          "symbol": "circle"
         },
         "mode": "markers",
         "name": "F9 v1.0  B0007",
         "orientation": "v",
         "showlegend": true,
         "type": "scatter",
         "x": [
          677
         ],
         "xaxis": "x",
         "y": [
          0
         ],
         "yaxis": "y"
        },
        {
         "hovertemplate": "Booster Version=F9 v1.1<br>Payload Mass (kg)=%{x}<br>class=%{y}<extra></extra>",
         "legendgroup": "F9 v1.1",
         "marker": {
          "color": "#ab63fa",
          "symbol": "circle"
         },
         "mode": "markers",
         "name": "F9 v1.1",
         "orientation": "v",
         "showlegend": true,
         "type": "scatter",
         "x": [
          3170,
          3325,
          2296,
          1316,
          4535
         ],
         "xaxis": "x",
         "y": [
          0,
          0,
          0,
          0,
          0
         ],
         "yaxis": "y"
        },
        {
         "hovertemplate": "Booster Version=F9 v1.1 B1011<br>Payload Mass (kg)=%{x}<br>class=%{y}<extra></extra>",
         "legendgroup": "F9 v1.1 B1011",
         "marker": {
          "color": "#FFA15A",
          "symbol": "circle"
         },
         "mode": "markers",
         "name": "F9 v1.1 B1011",
         "orientation": "v",
         "showlegend": true,
         "type": "scatter",
         "x": [
          4428
         ],
         "xaxis": "x",
         "y": [
          0
         ],
         "yaxis": "y"
        },
        {
         "hovertemplate": "Booster Version=F9 v1.1 B1010<br>Payload Mass (kg)=%{x}<br>class=%{y}<extra></extra>",
         "legendgroup": "F9 v1.1 B1010",
         "marker": {
          "color": "#19d3f3",
          "symbol": "circle"
         },
         "mode": "markers",
         "name": "F9 v1.1 B1010",
         "orientation": "v",
         "showlegend": true,
         "type": "scatter",
         "x": [
          2216
         ],
         "xaxis": "x",
         "y": [
          0
         ],
         "yaxis": "y"
        },
        {
         "hovertemplate": "Booster Version=F9 v1.1 B1012<br>Payload Mass (kg)=%{x}<br>class=%{y}<extra></extra>",
         "legendgroup": "F9 v1.1 B1012",
         "marker": {
          "color": "#FF6692",
          "symbol": "circle"
         },
         "mode": "markers",
         "name": "F9 v1.1 B1012",
         "orientation": "v",
         "showlegend": true,
         "type": "scatter",
         "x": [
          2395
         ],
         "xaxis": "x",
         "y": [
          0
         ],
         "yaxis": "y"
        },
        {
         "hovertemplate": "Booster Version=F9 v1.1 B1013<br>Payload Mass (kg)=%{x}<br>class=%{y}<extra></extra>",
         "legendgroup": "F9 v1.1 B1013",
         "marker": {
          "color": "#B6E880",
          "symbol": "circle"
         },
         "mode": "markers",
         "name": "F9 v1.1 B1013",
         "orientation": "v",
         "showlegend": true,
         "type": "scatter",
         "x": [
          570
         ],
         "xaxis": "x",
         "y": [
          0
         ],
         "yaxis": "y"
        },
        {
         "hovertemplate": "Booster Version=F9 v1.1 B1014<br>Payload Mass (kg)=%{x}<br>class=%{y}<extra></extra>",
         "legendgroup": "F9 v1.1 B1014",
         "marker": {
          "color": "#FF97FF",
          "symbol": "circle"
         },
         "mode": "markers",
         "name": "F9 v1.1 B1014",
         "orientation": "v",
         "showlegend": true,
         "type": "scatter",
         "x": [
          4159
         ],
         "xaxis": "x",
         "y": [
          0
         ],
         "yaxis": "y"
        },
        {
         "hovertemplate": "Booster Version=F9 v1.1 B1015<br>Payload Mass (kg)=%{x}<br>class=%{y}<extra></extra>",
         "legendgroup": "F9 v1.1 B1015",
         "marker": {
          "color": "#FECB52",
          "symbol": "circle"
         },
         "mode": "markers",
         "name": "F9 v1.1 B1015",
         "orientation": "v",
         "showlegend": true,
         "type": "scatter",
         "x": [
          1898
         ],
         "xaxis": "x",
         "y": [
          0
         ],
         "yaxis": "y"
        },
        {
         "hovertemplate": "Booster Version=F9 v1.1 B1016<br>Payload Mass (kg)=%{x}<br>class=%{y}<extra></extra>",
         "legendgroup": "F9 v1.1 B1016",
         "marker": {
          "color": "#636efa",
          "symbol": "circle"
         },
         "mode": "markers",
         "name": "F9 v1.1 B1016",
         "orientation": "v",
         "showlegend": true,
         "type": "scatter",
         "x": [
          4707
         ],
         "xaxis": "x",
         "y": [
          0
         ],
         "yaxis": "y"
        },
        {
         "hovertemplate": "Booster Version=F9 v1.1 B1018<br>Payload Mass (kg)=%{x}<br>class=%{y}<extra></extra>",
         "legendgroup": "F9 v1.1 B1018",
         "marker": {
          "color": "#EF553B",
          "symbol": "circle"
         },
         "mode": "markers",
         "name": "F9 v1.1 B1018",
         "orientation": "v",
         "showlegend": true,
         "type": "scatter",
         "x": [
          1952
         ],
         "xaxis": "x",
         "y": [
          1
         ],
         "yaxis": "y"
        },
        {
         "hovertemplate": "Booster Version=F9 FT B1019<br>Payload Mass (kg)=%{x}<br>class=%{y}<extra></extra>",
         "legendgroup": "F9 FT B1019",
         "marker": {
          "color": "#00cc96",
          "symbol": "circle"
         },
         "mode": "markers",
         "name": "F9 FT B1019",
         "orientation": "v",
         "showlegend": true,
         "type": "scatter",
         "x": [
          2034
         ],
         "xaxis": "x",
         "y": [
          1
         ],
         "yaxis": "y"
        },
        {
         "hovertemplate": "Booster Version=F9 FT B1020<br>Payload Mass (kg)=%{x}<br>class=%{y}<extra></extra>",
         "legendgroup": "F9 FT B1020",
         "marker": {
          "color": "#ab63fa",
          "symbol": "circle"
         },
         "mode": "markers",
         "name": "F9 FT B1020",
         "orientation": "v",
         "showlegend": true,
         "type": "scatter",
         "x": [
          5271
         ],
         "xaxis": "x",
         "y": [
          0
         ],
         "yaxis": "y"
        },
        {
         "hovertemplate": "Booster Version=F9 FT B1021.1<br>Payload Mass (kg)=%{x}<br>class=%{y}<extra></extra>",
         "legendgroup": "F9 FT B1021.1",
         "marker": {
          "color": "#FFA15A",
          "symbol": "circle"
         },
         "mode": "markers",
         "name": "F9 FT B1021.1",
         "orientation": "v",
         "showlegend": true,
         "type": "scatter",
         "x": [
          3136
         ],
         "xaxis": "x",
         "y": [
          1
         ],
         "yaxis": "y"
        },
        {
         "hovertemplate": "Booster Version=F9 FT B1022<br>Payload Mass (kg)=%{x}<br>class=%{y}<extra></extra>",
         "legendgroup": "F9 FT B1022",
         "marker": {
          "color": "#19d3f3",
          "symbol": "circle"
         },
         "mode": "markers",
         "name": "F9 FT B1022",
         "orientation": "v",
         "showlegend": true,
         "type": "scatter",
         "x": [
          4696
         ],
         "xaxis": "x",
         "y": [
          1
         ],
         "yaxis": "y"
        },
        {
         "hovertemplate": "Booster Version=F9 FT B1023.1<br>Payload Mass (kg)=%{x}<br>class=%{y}<extra></extra>",
         "legendgroup": "F9 FT B1023.1",
         "marker": {
          "color": "#FF6692",
          "symbol": "circle"
         },
         "mode": "markers",
         "name": "F9 FT B1023.1",
         "orientation": "v",
         "showlegend": true,
         "type": "scatter",
         "x": [
          3100
         ],
         "xaxis": "x",
         "y": [
          1
         ],
         "yaxis": "y"
        },
        {
         "hovertemplate": "Booster Version=F9 FT B1024<br>Payload Mass (kg)=%{x}<br>class=%{y}<extra></extra>",
         "legendgroup": "F9 FT B1024",
         "marker": {
          "color": "#B6E880",
          "symbol": "circle"
         },
         "mode": "markers",
         "name": "F9 FT B1024",
         "orientation": "v",
         "showlegend": true,
         "type": "scatter",
         "x": [
          3600
         ],
         "xaxis": "x",
         "y": [
          0
         ],
         "yaxis": "y"
        },
        {
         "hovertemplate": "Booster Version=F9 FT B1025.1<br>Payload Mass (kg)=%{x}<br>class=%{y}<extra></extra>",
         "legendgroup": "F9 FT B1025.1",
         "marker": {
          "color": "#FF97FF",
          "symbol": "circle"
         },
         "mode": "markers",
         "name": "F9 FT B1025.1",
         "orientation": "v",
         "showlegend": true,
         "type": "scatter",
         "x": [
          2257
         ],
         "xaxis": "x",
         "y": [
          1
         ],
         "yaxis": "y"
        },
        {
         "hovertemplate": "Booster Version=F9 FT B1026<br>Payload Mass (kg)=%{x}<br>class=%{y}<extra></extra>",
         "legendgroup": "F9 FT B1026",
         "marker": {
          "color": "#FECB52",
          "symbol": "circle"
         },
         "mode": "markers",
         "name": "F9 FT B1026",
         "orientation": "v",
         "showlegend": true,
         "type": "scatter",
         "x": [
          4600
         ],
         "xaxis": "x",
         "y": [
          1
         ],
         "yaxis": "y"
        },
        {
         "hovertemplate": "Booster Version=F9 v1.1  B1003<br>Payload Mass (kg)=%{x}<br>class=%{y}<extra></extra>",
         "legendgroup": "F9 v1.1  B1003",
         "marker": {
          "color": "#636efa",
          "symbol": "circle"
         },
         "mode": "markers",
         "name": "F9 v1.1  B1003",
         "orientation": "v",
         "showlegend": true,
         "type": "scatter",
         "x": [
          500
         ],
         "xaxis": "x",
         "y": [
          0
         ],
         "yaxis": "y"
        },
        {
         "hovertemplate": "Booster Version=F9 v1.1 B1017<br>Payload Mass (kg)=%{x}<br>class=%{y}<extra></extra>",
         "legendgroup": "F9 v1.1 B1017",
         "marker": {
          "color": "#EF553B",
          "symbol": "circle"
         },
         "mode": "markers",
         "name": "F9 v1.1 B1017",
         "orientation": "v",
         "showlegend": true,
         "type": "scatter",
         "x": [
          553
         ],
         "xaxis": "x",
         "y": [
          0
         ],
         "yaxis": "y"
        },
        {
         "hovertemplate": "Booster Version=F9 FT B1029.1<br>Payload Mass (kg)=%{x}<br>class=%{y}<extra></extra>",
         "legendgroup": "F9 FT B1029.1",
         "marker": {
          "color": "#00cc96",
          "symbol": "circle"
         },
         "mode": "markers",
         "name": "F9 FT B1029.1",
         "orientation": "v",
         "showlegend": true,
         "type": "scatter",
         "x": [
          9600
         ],
         "xaxis": "x",
         "y": [
          1
         ],
         "yaxis": "y"
        },
        {
         "hovertemplate": "Booster Version=F9 FT B1036.1<br>Payload Mass (kg)=%{x}<br>class=%{y}<extra></extra>",
         "legendgroup": "F9 FT B1036.1",
         "marker": {
          "color": "#ab63fa",
          "symbol": "circle"
         },
         "mode": "markers",
         "name": "F9 FT B1036.1",
         "orientation": "v",
         "showlegend": true,
         "type": "scatter",
         "x": [
          9600
         ],
         "xaxis": "x",
         "y": [
          1
         ],
         "yaxis": "y"
        },
        {
         "hovertemplate": "Booster Version=F9 FT B1038.1<br>Payload Mass (kg)=%{x}<br>class=%{y}<extra></extra>",
         "legendgroup": "F9 FT B1038.1",
         "marker": {
          "color": "#FFA15A",
          "symbol": "circle"
         },
         "mode": "markers",
         "name": "F9 FT B1038.1",
         "orientation": "v",
         "showlegend": true,
         "type": "scatter",
         "x": [
          475
         ],
         "xaxis": "x",
         "y": [
          1
         ],
         "yaxis": "y"
        },
        {
         "hovertemplate": "Booster Version=F9 B4 B1041.1<br>Payload Mass (kg)=%{x}<br>class=%{y}<extra></extra>",
         "legendgroup": "F9 B4 B1041.1",
         "marker": {
          "color": "#19d3f3",
          "symbol": "circle"
         },
         "mode": "markers",
         "name": "F9 B4 B1041.1",
         "orientation": "v",
         "showlegend": true,
         "type": "scatter",
         "x": [
          9600
         ],
         "xaxis": "x",
         "y": [
          1
         ],
         "yaxis": "y"
        },
        {
         "hovertemplate": "Booster Version=F9 FT  B1036.2<br>Payload Mass (kg)=%{x}<br>class=%{y}<extra></extra>",
         "legendgroup": "F9 FT  B1036.2",
         "marker": {
          "color": "#FF6692",
          "symbol": "circle"
         },
         "mode": "markers",
         "name": "F9 FT  B1036.2",
         "orientation": "v",
         "showlegend": true,
         "type": "scatter",
         "x": [
          9600
         ],
         "xaxis": "x",
         "y": [
          0
         ],
         "yaxis": "y"
        },
        {
         "hovertemplate": "Booster Version=F9 FT  B1038.2<br>Payload Mass (kg)=%{x}<br>class=%{y}<extra></extra>",
         "legendgroup": "F9 FT  B1038.2",
         "marker": {
          "color": "#B6E880",
          "symbol": "circle"
         },
         "mode": "markers",
         "name": "F9 FT  B1038.2",
         "orientation": "v",
         "showlegend": true,
         "type": "scatter",
         "x": [
          2150
         ],
         "xaxis": "x",
         "y": [
          0
         ],
         "yaxis": "y"
        },
        {
         "hovertemplate": "Booster Version=F9 B4  B1041.2<br>Payload Mass (kg)=%{x}<br>class=%{y}<extra></extra>",
         "legendgroup": "F9 B4  B1041.2",
         "marker": {
          "color": "#FF97FF",
          "symbol": "circle"
         },
         "mode": "markers",
         "name": "F9 B4  B1041.2",
         "orientation": "v",
         "showlegend": true,
         "type": "scatter",
         "x": [
          9600
         ],
         "xaxis": "x",
         "y": [
          0
         ],
         "yaxis": "y"
        },
        {
         "hovertemplate": "Booster Version=F9 B4  B1043.2<br>Payload Mass (kg)=%{x}<br>class=%{y}<extra></extra>",
         "legendgroup": "F9 B4  B1043.2",
         "marker": {
          "color": "#FECB52",
          "symbol": "circle"
         },
         "mode": "markers",
         "name": "F9 B4  B1043.2",
         "orientation": "v",
         "showlegend": true,
         "type": "scatter",
         "x": [
          6460
         ],
         "xaxis": "x",
         "y": [
          0
         ],
         "yaxis": "y"
        },
        {
         "hovertemplate": "Booster Version=F9 FT B1031.1<br>Payload Mass (kg)=%{x}<br>class=%{y}<extra></extra>",
         "legendgroup": "F9 FT B1031.1",
         "marker": {
          "color": "#636efa",
          "symbol": "circle"
         },
         "mode": "markers",
         "name": "F9 FT B1031.1",
         "orientation": "v",
         "showlegend": true,
         "type": "scatter",
         "x": [
          2490
         ],
         "xaxis": "x",
         "y": [
          1
         ],
         "yaxis": "y"
        },
        {
         "hovertemplate": "Booster Version=F9 FT B1030<br>Payload Mass (kg)=%{x}<br>class=%{y}<extra></extra>",
         "legendgroup": "F9 FT B1030",
         "marker": {
          "color": "#EF553B",
          "symbol": "circle"
         },
         "mode": "markers",
         "name": "F9 FT B1030",
         "orientation": "v",
         "showlegend": true,
         "type": "scatter",
         "x": [
          5600
         ],
         "xaxis": "x",
         "y": [
          0
         ],
         "yaxis": "y"
        },
        {
         "hovertemplate": "Booster Version=F9 FT  B1021.2<br>Payload Mass (kg)=%{x}<br>class=%{y}<extra></extra>",
         "legendgroup": "F9 FT  B1021.2",
         "marker": {
          "color": "#00cc96",
          "symbol": "circle"
         },
         "mode": "markers",
         "name": "F9 FT  B1021.2",
         "orientation": "v",
         "showlegend": true,
         "type": "scatter",
         "x": [
          5300
         ],
         "xaxis": "x",
         "y": [
          1
         ],
         "yaxis": "y"
        },
        {
         "hovertemplate": "Booster Version=F9 FT B1032.1<br>Payload Mass (kg)=%{x}<br>class=%{y}<extra></extra>",
         "legendgroup": "F9 FT B1032.1",
         "marker": {
          "color": "#ab63fa",
          "symbol": "circle"
         },
         "mode": "markers",
         "name": "F9 FT B1032.1",
         "orientation": "v",
         "showlegend": true,
         "type": "scatter",
         "x": [
          3696.65
         ],
         "xaxis": "x",
         "y": [
          1
         ],
         "yaxis": "y"
        },
        {
         "hovertemplate": "Booster Version=F9 FT B1034<br>Payload Mass (kg)=%{x}<br>class=%{y}<extra></extra>",
         "legendgroup": "F9 FT B1034",
         "marker": {
          "color": "#FFA15A",
          "symbol": "circle"
         },
         "mode": "markers",
         "name": "F9 FT B1034",
         "orientation": "v",
         "showlegend": true,
         "type": "scatter",
         "x": [
          6070
         ],
         "xaxis": "x",
         "y": [
          0
         ],
         "yaxis": "y"
        },
        {
         "hovertemplate": "Booster Version=F9 FT B1035.1<br>Payload Mass (kg)=%{x}<br>class=%{y}<extra></extra>",
         "legendgroup": "F9 FT B1035.1",
         "marker": {
          "color": "#19d3f3",
          "symbol": "circle"
         },
         "mode": "markers",
         "name": "F9 FT B1035.1",
         "orientation": "v",
         "showlegend": true,
         "type": "scatter",
         "x": [
          2708
         ],
         "xaxis": "x",
         "y": [
          1
         ],
         "yaxis": "y"
        },
        {
         "hovertemplate": "Booster Version=F9 FT  B1029.2<br>Payload Mass (kg)=%{x}<br>class=%{y}<extra></extra>",
         "legendgroup": "F9 FT  B1029.2",
         "marker": {
          "color": "#FF6692",
          "symbol": "circle"
         },
         "mode": "markers",
         "name": "F9 FT  B1029.2",
         "orientation": "v",
         "showlegend": true,
         "type": "scatter",
         "x": [
          3669
         ],
         "xaxis": "x",
         "y": [
          1
         ],
         "yaxis": "y"
        },
        {
         "hovertemplate": "Booster Version=F9 FT B1037<br>Payload Mass (kg)=%{x}<br>class=%{y}<extra></extra>",
         "legendgroup": "F9 FT B1037",
         "marker": {
          "color": "#B6E880",
          "symbol": "circle"
         },
         "mode": "markers",
         "name": "F9 FT B1037",
         "orientation": "v",
         "showlegend": true,
         "type": "scatter",
         "x": [
          6761
         ],
         "xaxis": "x",
         "y": [
          0
         ],
         "yaxis": "y"
        },
        {
         "hovertemplate": "Booster Version=F9 B4 B1039.1<br>Payload Mass (kg)=%{x}<br>class=%{y}<extra></extra>",
         "legendgroup": "F9 B4 B1039.1",
         "marker": {
          "color": "#FF97FF",
          "symbol": "circle"
         },
         "mode": "markers",
         "name": "F9 B4 B1039.1",
         "orientation": "v",
         "showlegend": true,
         "type": "scatter",
         "x": [
          3310
         ],
         "xaxis": "x",
         "y": [
          1
         ],
         "yaxis": "y"
        },
        {
         "hovertemplate": "Booster Version=F9 B4 B1040.1<br>Payload Mass (kg)=%{x}<br>class=%{y}<extra></extra>",
         "legendgroup": "F9 B4 B1040.1",
         "marker": {
          "color": "#FECB52",
          "symbol": "circle"
         },
         "mode": "markers",
         "name": "F9 B4 B1040.1",
         "orientation": "v",
         "showlegend": true,
         "type": "scatter",
         "x": [
          4990
         ],
         "xaxis": "x",
         "y": [
          1
         ],
         "yaxis": "y"
        },
        {
         "hovertemplate": "Booster Version=F9 FT  B1031.2<br>Payload Mass (kg)=%{x}<br>class=%{y}<extra></extra>",
         "legendgroup": "F9 FT  B1031.2",
         "marker": {
          "color": "#636efa",
          "symbol": "circle"
         },
         "mode": "markers",
         "name": "F9 FT  B1031.2",
         "orientation": "v",
         "showlegend": true,
         "type": "scatter",
         "x": [
          5200
         ],
         "xaxis": "x",
         "y": [
          1
         ],
         "yaxis": "y"
        },
        {
         "hovertemplate": "Booster Version=F9 B4 B1042.1<br>Payload Mass (kg)=%{x}<br>class=%{y}<extra></extra>",
         "legendgroup": "F9 B4 B1042.1",
         "marker": {
          "color": "#EF553B",
          "symbol": "circle"
         },
         "mode": "markers",
         "name": "F9 B4 B1042.1",
         "orientation": "v",
         "showlegend": true,
         "type": "scatter",
         "x": [
          3500
         ],
         "xaxis": "x",
         "y": [
          1
         ],
         "yaxis": "y"
        },
        {
         "hovertemplate": "Booster Version=F9 B5  B1046.1<br>Payload Mass (kg)=%{x}<br>class=%{y}<extra></extra>",
         "legendgroup": "F9 B5  B1046.1",
         "marker": {
          "color": "#00cc96",
          "symbol": "circle"
         },
         "mode": "markers",
         "name": "F9 B5  B1046.1",
         "orientation": "v",
         "showlegend": true,
         "type": "scatter",
         "x": [
          3600
         ],
         "xaxis": "x",
         "y": [
          1
         ],
         "yaxis": "y"
        },
        {
         "hovertemplate": "Booster Version=F9 FT  B1035.2<br>Payload Mass (kg)=%{x}<br>class=%{y}<extra></extra>",
         "legendgroup": "F9 FT  B1035.2",
         "marker": {
          "color": "#ab63fa",
          "symbol": "circle"
         },
         "mode": "markers",
         "name": "F9 FT  B1035.2",
         "orientation": "v",
         "showlegend": true,
         "type": "scatter",
         "x": [
          2205
         ],
         "xaxis": "x",
         "y": [
          1
         ],
         "yaxis": "y"
        },
        {
         "hovertemplate": "Booster Version=F9 B4 B1043.1<br>Payload Mass (kg)=%{x}<br>class=%{y}<extra></extra>",
         "legendgroup": "F9 B4 B1043.1",
         "marker": {
          "color": "#FFA15A",
          "symbol": "circle"
         },
         "mode": "markers",
         "name": "F9 B4 B1043.1",
         "orientation": "v",
         "showlegend": true,
         "type": "scatter",
         "x": [
          3696.65
         ],
         "xaxis": "x",
         "y": [
          1
         ],
         "yaxis": "y"
        },
        {
         "hovertemplate": "Booster Version=F9 FT  B1032.2<br>Payload Mass (kg)=%{x}<br>class=%{y}<extra></extra>",
         "legendgroup": "F9 FT  B1032.2",
         "marker": {
          "color": "#19d3f3",
          "symbol": "circle"
         },
         "mode": "markers",
         "name": "F9 FT  B1032.2",
         "orientation": "v",
         "showlegend": true,
         "type": "scatter",
         "x": [
          4230
         ],
         "xaxis": "x",
         "y": [
          0
         ],
         "yaxis": "y"
        },
        {
         "hovertemplate": "Booster Version=F9 B4 B1044<br>Payload Mass (kg)=%{x}<br>class=%{y}<extra></extra>",
         "legendgroup": "F9 B4 B1044",
         "marker": {
          "color": "#FF6692",
          "symbol": "circle"
         },
         "mode": "markers",
         "name": "F9 B4 B1044",
         "orientation": "v",
         "showlegend": true,
         "type": "scatter",
         "x": [
          6092
         ],
         "xaxis": "x",
         "y": [
          0
         ],
         "yaxis": "y"
        },
        {
         "hovertemplate": "Booster Version=F9 B4  B1039.2<br>Payload Mass (kg)=%{x}<br>class=%{y}<extra></extra>",
         "legendgroup": "F9 B4  B1039.2",
         "marker": {
          "color": "#B6E880",
          "symbol": "circle"
         },
         "mode": "markers",
         "name": "F9 B4  B1039.2",
         "orientation": "v",
         "showlegend": true,
         "type": "scatter",
         "x": [
          2647
         ],
         "xaxis": "x",
         "y": [
          0
         ],
         "yaxis": "y"
        },
        {
         "hovertemplate": "Booster Version=F9 B4 B1045.1<br>Payload Mass (kg)=%{x}<br>class=%{y}<extra></extra>",
         "legendgroup": "F9 B4 B1045.1",
         "marker": {
          "color": "#FF97FF",
          "symbol": "circle"
         },
         "mode": "markers",
         "name": "F9 B4 B1045.1",
         "orientation": "v",
         "showlegend": true,
         "type": "scatter",
         "x": [
          362
         ],
         "xaxis": "x",
         "y": [
          1
         ],
         "yaxis": "y"
        },
        {
         "hovertemplate": "Booster Version=F9 B4  B1040.2<br>Payload Mass (kg)=%{x}<br>class=%{y}<extra></extra>",
         "legendgroup": "F9 B4  B1040.2",
         "marker": {
          "color": "#FECB52",
          "symbol": "circle"
         },
         "mode": "markers",
         "name": "F9 B4  B1040.2",
         "orientation": "v",
         "showlegend": true,
         "type": "scatter",
         "x": [
          5384
         ],
         "xaxis": "x",
         "y": [
          0
         ],
         "yaxis": "y"
        }
       ],
       "layout": {
        "legend": {
         "title": {
          "text": "Booster Version"
         },
         "tracegroupgap": 0
        },
        "margin": {
         "t": 60
        },
        "template": {
         "data": {
          "bar": [
           {
            "error_x": {
             "color": "#2a3f5f"
            },
            "error_y": {
             "color": "#2a3f5f"
            },
            "marker": {
             "line": {
              "color": "#E5ECF6",
              "width": 0.5
             },
             "pattern": {
              "fillmode": "overlay",
              "size": 10,
              "solidity": 0.2
             }
            },
            "type": "bar"
           }
          ],
          "barpolar": [
           {
            "marker": {
             "line": {
              "color": "#E5ECF6",
              "width": 0.5
             },
             "pattern": {
              "fillmode": "overlay",
              "size": 10,
              "solidity": 0.2
             }
            },
            "type": "barpolar"
           }
          ],
          "carpet": [
           {
            "aaxis": {
             "endlinecolor": "#2a3f5f",
             "gridcolor": "white",
             "linecolor": "white",
             "minorgridcolor": "white",
             "startlinecolor": "#2a3f5f"
            },
            "baxis": {
             "endlinecolor": "#2a3f5f",
             "gridcolor": "white",
             "linecolor": "white",
             "minorgridcolor": "white",
             "startlinecolor": "#2a3f5f"
            },
            "type": "carpet"
           }
          ],
          "choropleth": [
           {
            "colorbar": {
             "outlinewidth": 0,
             "ticks": ""
            },
            "type": "choropleth"
           }
          ],
          "contour": [
           {
            "colorbar": {
             "outlinewidth": 0,
             "ticks": ""
            },
            "colorscale": [
             [
              0,
              "#0d0887"
             ],
             [
              0.1111111111111111,
              "#46039f"
             ],
             [
              0.2222222222222222,
              "#7201a8"
             ],
             [
              0.3333333333333333,
              "#9c179e"
             ],
             [
              0.4444444444444444,
              "#bd3786"
             ],
             [
              0.5555555555555556,
              "#d8576b"
             ],
             [
              0.6666666666666666,
              "#ed7953"
             ],
             [
              0.7777777777777778,
              "#fb9f3a"
             ],
             [
              0.8888888888888888,
              "#fdca26"
             ],
             [
              1,
              "#f0f921"
             ]
            ],
            "type": "contour"
           }
          ],
          "contourcarpet": [
           {
            "colorbar": {
             "outlinewidth": 0,
             "ticks": ""
            },
            "type": "contourcarpet"
           }
          ],
          "heatmap": [
           {
            "colorbar": {
             "outlinewidth": 0,
             "ticks": ""
            },
            "colorscale": [
             [
              0,
              "#0d0887"
             ],
             [
              0.1111111111111111,
              "#46039f"
             ],
             [
              0.2222222222222222,
              "#7201a8"
             ],
             [
              0.3333333333333333,
              "#9c179e"
             ],
             [
              0.4444444444444444,
              "#bd3786"
             ],
             [
              0.5555555555555556,
              "#d8576b"
             ],
             [
              0.6666666666666666,
              "#ed7953"
             ],
             [
              0.7777777777777778,
              "#fb9f3a"
             ],
             [
              0.8888888888888888,
              "#fdca26"
             ],
             [
              1,
              "#f0f921"
             ]
            ],
            "type": "heatmap"
           }
          ],
          "heatmapgl": [
           {
            "colorbar": {
             "outlinewidth": 0,
             "ticks": ""
            },
            "colorscale": [
             [
              0,
              "#0d0887"
             ],
             [
              0.1111111111111111,
              "#46039f"
             ],
             [
              0.2222222222222222,
              "#7201a8"
             ],
             [
              0.3333333333333333,
              "#9c179e"
             ],
             [
              0.4444444444444444,
              "#bd3786"
             ],
             [
              0.5555555555555556,
              "#d8576b"
             ],
             [
              0.6666666666666666,
              "#ed7953"
             ],
             [
              0.7777777777777778,
              "#fb9f3a"
             ],
             [
              0.8888888888888888,
              "#fdca26"
             ],
             [
              1,
              "#f0f921"
             ]
            ],
            "type": "heatmapgl"
           }
          ],
          "histogram": [
           {
            "marker": {
             "pattern": {
              "fillmode": "overlay",
              "size": 10,
              "solidity": 0.2
             }
            },
            "type": "histogram"
           }
          ],
          "histogram2d": [
           {
            "colorbar": {
             "outlinewidth": 0,
             "ticks": ""
            },
            "colorscale": [
             [
              0,
              "#0d0887"
             ],
             [
              0.1111111111111111,
              "#46039f"
             ],
             [
              0.2222222222222222,
              "#7201a8"
             ],
             [
              0.3333333333333333,
              "#9c179e"
             ],
             [
              0.4444444444444444,
              "#bd3786"
             ],
             [
              0.5555555555555556,
              "#d8576b"
             ],
             [
              0.6666666666666666,
              "#ed7953"
             ],
             [
              0.7777777777777778,
              "#fb9f3a"
             ],
             [
              0.8888888888888888,
              "#fdca26"
             ],
             [
              1,
              "#f0f921"
             ]
            ],
            "type": "histogram2d"
           }
          ],
          "histogram2dcontour": [
           {
            "colorbar": {
             "outlinewidth": 0,
             "ticks": ""
            },
            "colorscale": [
             [
              0,
              "#0d0887"
             ],
             [
              0.1111111111111111,
              "#46039f"
             ],
             [
              0.2222222222222222,
              "#7201a8"
             ],
             [
              0.3333333333333333,
              "#9c179e"
             ],
             [
              0.4444444444444444,
              "#bd3786"
             ],
             [
              0.5555555555555556,
              "#d8576b"
             ],
             [
              0.6666666666666666,
              "#ed7953"
             ],
             [
              0.7777777777777778,
              "#fb9f3a"
             ],
             [
              0.8888888888888888,
              "#fdca26"
             ],
             [
              1,
              "#f0f921"
             ]
            ],
            "type": "histogram2dcontour"
           }
          ],
          "mesh3d": [
           {
            "colorbar": {
             "outlinewidth": 0,
             "ticks": ""
            },
            "type": "mesh3d"
           }
          ],
          "parcoords": [
           {
            "line": {
             "colorbar": {
              "outlinewidth": 0,
              "ticks": ""
             }
            },
            "type": "parcoords"
           }
          ],
          "pie": [
           {
            "automargin": true,
            "type": "pie"
           }
          ],
          "scatter": [
           {
            "fillpattern": {
             "fillmode": "overlay",
             "size": 10,
             "solidity": 0.2
            },
            "type": "scatter"
           }
          ],
          "scatter3d": [
           {
            "line": {
             "colorbar": {
              "outlinewidth": 0,
              "ticks": ""
             }
            },
            "marker": {
             "colorbar": {
              "outlinewidth": 0,
              "ticks": ""
             }
            },
            "type": "scatter3d"
           }
          ],
          "scattercarpet": [
           {
            "marker": {
             "colorbar": {
              "outlinewidth": 0,
              "ticks": ""
             }
            },
            "type": "scattercarpet"
           }
          ],
          "scattergeo": [
           {
            "marker": {
             "colorbar": {
              "outlinewidth": 0,
              "ticks": ""
             }
            },
            "type": "scattergeo"
           }
          ],
          "scattergl": [
           {
            "marker": {
             "colorbar": {
              "outlinewidth": 0,
              "ticks": ""
             }
            },
            "type": "scattergl"
           }
          ],
          "scattermapbox": [
           {
            "marker": {
             "colorbar": {
              "outlinewidth": 0,
              "ticks": ""
             }
            },
            "type": "scattermapbox"
           }
          ],
          "scatterpolar": [
           {
            "marker": {
             "colorbar": {
              "outlinewidth": 0,
              "ticks": ""
             }
            },
            "type": "scatterpolar"
           }
          ],
          "scatterpolargl": [
           {
            "marker": {
             "colorbar": {
              "outlinewidth": 0,
              "ticks": ""
             }
            },
            "type": "scatterpolargl"
           }
          ],
          "scatterternary": [
           {
            "marker": {
             "colorbar": {
              "outlinewidth": 0,
              "ticks": ""
             }
            },
            "type": "scatterternary"
           }
          ],
          "surface": [
           {
            "colorbar": {
             "outlinewidth": 0,
             "ticks": ""
            },
            "colorscale": [
             [
              0,
              "#0d0887"
             ],
             [
              0.1111111111111111,
              "#46039f"
             ],
             [
              0.2222222222222222,
              "#7201a8"
             ],
             [
              0.3333333333333333,
              "#9c179e"
             ],
             [
              0.4444444444444444,
              "#bd3786"
             ],
             [
              0.5555555555555556,
              "#d8576b"
             ],
             [
              0.6666666666666666,
              "#ed7953"
             ],
             [
              0.7777777777777778,
              "#fb9f3a"
             ],
             [
              0.8888888888888888,
              "#fdca26"
             ],
             [
              1,
              "#f0f921"
             ]
            ],
            "type": "surface"
           }
          ],
          "table": [
           {
            "cells": {
             "fill": {
              "color": "#EBF0F8"
             },
             "line": {
              "color": "white"
             }
            },
            "header": {
             "fill": {
              "color": "#C8D4E3"
             },
             "line": {
              "color": "white"
             }
            },
            "type": "table"
           }
          ]
         },
         "layout": {
          "annotationdefaults": {
           "arrowcolor": "#2a3f5f",
           "arrowhead": 0,
           "arrowwidth": 1
          },
          "autotypenumbers": "strict",
          "coloraxis": {
           "colorbar": {
            "outlinewidth": 0,
            "ticks": ""
           }
          },
          "colorscale": {
           "diverging": [
            [
             0,
             "#8e0152"
            ],
            [
             0.1,
             "#c51b7d"
            ],
            [
             0.2,
             "#de77ae"
            ],
            [
             0.3,
             "#f1b6da"
            ],
            [
             0.4,
             "#fde0ef"
            ],
            [
             0.5,
             "#f7f7f7"
            ],
            [
             0.6,
             "#e6f5d0"
            ],
            [
             0.7,
             "#b8e186"
            ],
            [
             0.8,
             "#7fbc41"
            ],
            [
             0.9,
             "#4d9221"
            ],
            [
             1,
             "#276419"
            ]
           ],
           "sequential": [
            [
             0,
             "#0d0887"
            ],
            [
             0.1111111111111111,
             "#46039f"
            ],
            [
             0.2222222222222222,
             "#7201a8"
            ],
            [
             0.3333333333333333,
             "#9c179e"
            ],
            [
             0.4444444444444444,
             "#bd3786"
            ],
            [
             0.5555555555555556,
             "#d8576b"
            ],
            [
             0.6666666666666666,
             "#ed7953"
            ],
            [
             0.7777777777777778,
             "#fb9f3a"
            ],
            [
             0.8888888888888888,
             "#fdca26"
            ],
            [
             1,
             "#f0f921"
            ]
           ],
           "sequentialminus": [
            [
             0,
             "#0d0887"
            ],
            [
             0.1111111111111111,
             "#46039f"
            ],
            [
             0.2222222222222222,
             "#7201a8"
            ],
            [
             0.3333333333333333,
             "#9c179e"
            ],
            [
             0.4444444444444444,
             "#bd3786"
            ],
            [
             0.5555555555555556,
             "#d8576b"
            ],
            [
             0.6666666666666666,
             "#ed7953"
            ],
            [
             0.7777777777777778,
             "#fb9f3a"
            ],
            [
             0.8888888888888888,
             "#fdca26"
            ],
            [
             1,
             "#f0f921"
            ]
           ]
          },
          "colorway": [
           "#636efa",
           "#EF553B",
           "#00cc96",
           "#ab63fa",
           "#FFA15A",
           "#19d3f3",
           "#FF6692",
           "#B6E880",
           "#FF97FF",
           "#FECB52"
          ],
          "font": {
           "color": "#2a3f5f"
          },
          "geo": {
           "bgcolor": "white",
           "lakecolor": "white",
           "landcolor": "#E5ECF6",
           "showlakes": true,
           "showland": true,
           "subunitcolor": "white"
          },
          "hoverlabel": {
           "align": "left"
          },
          "hovermode": "closest",
          "mapbox": {
           "style": "light"
          },
          "paper_bgcolor": "white",
          "plot_bgcolor": "#E5ECF6",
          "polar": {
           "angularaxis": {
            "gridcolor": "white",
            "linecolor": "white",
            "ticks": ""
           },
           "bgcolor": "#E5ECF6",
           "radialaxis": {
            "gridcolor": "white",
            "linecolor": "white",
            "ticks": ""
           }
          },
          "scene": {
           "xaxis": {
            "backgroundcolor": "#E5ECF6",
            "gridcolor": "white",
            "gridwidth": 2,
            "linecolor": "white",
            "showbackground": true,
            "ticks": "",
            "zerolinecolor": "white"
           },
           "yaxis": {
            "backgroundcolor": "#E5ECF6",
            "gridcolor": "white",
            "gridwidth": 2,
            "linecolor": "white",
            "showbackground": true,
            "ticks": "",
            "zerolinecolor": "white"
           },
           "zaxis": {
            "backgroundcolor": "#E5ECF6",
            "gridcolor": "white",
            "gridwidth": 2,
            "linecolor": "white",
            "showbackground": true,
            "ticks": "",
            "zerolinecolor": "white"
           }
          },
          "shapedefaults": {
           "line": {
            "color": "#2a3f5f"
           }
          },
          "ternary": {
           "aaxis": {
            "gridcolor": "white",
            "linecolor": "white",
            "ticks": ""
           },
           "baxis": {
            "gridcolor": "white",
            "linecolor": "white",
            "ticks": ""
           },
           "bgcolor": "#E5ECF6",
           "caxis": {
            "gridcolor": "white",
            "linecolor": "white",
            "ticks": ""
           }
          },
          "title": {
           "x": 0.05
          },
          "xaxis": {
           "automargin": true,
           "gridcolor": "white",
           "linecolor": "white",
           "ticks": "",
           "title": {
            "standoff": 15
           },
           "zerolinecolor": "white",
           "zerolinewidth": 2
          },
          "yaxis": {
           "automargin": true,
           "gridcolor": "white",
           "linecolor": "white",
           "ticks": "",
           "title": {
            "standoff": 15
           },
           "zerolinecolor": "white",
           "zerolinewidth": 2
          }
         }
        },
        "xaxis": {
         "anchor": "y",
         "domain": [
          0,
          1
         ],
         "title": {
          "text": "Payload Mass (kg)"
         }
        },
        "yaxis": {
         "anchor": "x",
         "domain": [
          0,
          1
         ],
         "title": {
          "text": "class"
         }
        }
       }
      },
      "text/html": [
       "<div>                            <div id=\"31da20cf-4ac4-47b6-8401-61f566bf3a04\" class=\"plotly-graph-div\" style=\"height:525px; width:100%;\"></div>            <script type=\"text/javascript\">                require([\"plotly\"], function(Plotly) {                    window.PLOTLYENV=window.PLOTLYENV || {};                                    if (document.getElementById(\"31da20cf-4ac4-47b6-8401-61f566bf3a04\")) {                    Plotly.newPlot(                        \"31da20cf-4ac4-47b6-8401-61f566bf3a04\",                        [{\"hovertemplate\":\"Booster Version=F9 v1.0  B0005<br>Payload Mass (kg)=%{x}<br>class=%{y}<extra></extra>\",\"legendgroup\":\"F9 v1.0  B0005\",\"marker\":{\"color\":\"#636efa\",\"symbol\":\"circle\"},\"mode\":\"markers\",\"name\":\"F9 v1.0  B0005\",\"orientation\":\"v\",\"showlegend\":true,\"x\":[525.0],\"xaxis\":\"x\",\"y\":[0],\"yaxis\":\"y\",\"type\":\"scatter\"},{\"hovertemplate\":\"Booster Version=F9 v1.0  B0006<br>Payload Mass (kg)=%{x}<br>class=%{y}<extra></extra>\",\"legendgroup\":\"F9 v1.0  B0006\",\"marker\":{\"color\":\"#EF553B\",\"symbol\":\"circle\"},\"mode\":\"markers\",\"name\":\"F9 v1.0  B0006\",\"orientation\":\"v\",\"showlegend\":true,\"x\":[500.0],\"xaxis\":\"x\",\"y\":[0],\"yaxis\":\"y\",\"type\":\"scatter\"},{\"hovertemplate\":\"Booster Version=F9 v1.0  B0007<br>Payload Mass (kg)=%{x}<br>class=%{y}<extra></extra>\",\"legendgroup\":\"F9 v1.0  B0007\",\"marker\":{\"color\":\"#00cc96\",\"symbol\":\"circle\"},\"mode\":\"markers\",\"name\":\"F9 v1.0  B0007\",\"orientation\":\"v\",\"showlegend\":true,\"x\":[677.0],\"xaxis\":\"x\",\"y\":[0],\"yaxis\":\"y\",\"type\":\"scatter\"},{\"hovertemplate\":\"Booster Version=F9 v1.1<br>Payload Mass (kg)=%{x}<br>class=%{y}<extra></extra>\",\"legendgroup\":\"F9 v1.1\",\"marker\":{\"color\":\"#ab63fa\",\"symbol\":\"circle\"},\"mode\":\"markers\",\"name\":\"F9 v1.1\",\"orientation\":\"v\",\"showlegend\":true,\"x\":[3170.0,3325.0,2296.0,1316.0,4535.0],\"xaxis\":\"x\",\"y\":[0,0,0,0,0],\"yaxis\":\"y\",\"type\":\"scatter\"},{\"hovertemplate\":\"Booster Version=F9 v1.1 B1011<br>Payload Mass (kg)=%{x}<br>class=%{y}<extra></extra>\",\"legendgroup\":\"F9 v1.1 B1011\",\"marker\":{\"color\":\"#FFA15A\",\"symbol\":\"circle\"},\"mode\":\"markers\",\"name\":\"F9 v1.1 B1011\",\"orientation\":\"v\",\"showlegend\":true,\"x\":[4428.0],\"xaxis\":\"x\",\"y\":[0],\"yaxis\":\"y\",\"type\":\"scatter\"},{\"hovertemplate\":\"Booster Version=F9 v1.1 B1010<br>Payload Mass (kg)=%{x}<br>class=%{y}<extra></extra>\",\"legendgroup\":\"F9 v1.1 B1010\",\"marker\":{\"color\":\"#19d3f3\",\"symbol\":\"circle\"},\"mode\":\"markers\",\"name\":\"F9 v1.1 B1010\",\"orientation\":\"v\",\"showlegend\":true,\"x\":[2216.0],\"xaxis\":\"x\",\"y\":[0],\"yaxis\":\"y\",\"type\":\"scatter\"},{\"hovertemplate\":\"Booster Version=F9 v1.1 B1012<br>Payload Mass (kg)=%{x}<br>class=%{y}<extra></extra>\",\"legendgroup\":\"F9 v1.1 B1012\",\"marker\":{\"color\":\"#FF6692\",\"symbol\":\"circle\"},\"mode\":\"markers\",\"name\":\"F9 v1.1 B1012\",\"orientation\":\"v\",\"showlegend\":true,\"x\":[2395.0],\"xaxis\":\"x\",\"y\":[0],\"yaxis\":\"y\",\"type\":\"scatter\"},{\"hovertemplate\":\"Booster Version=F9 v1.1 B1013<br>Payload Mass (kg)=%{x}<br>class=%{y}<extra></extra>\",\"legendgroup\":\"F9 v1.1 B1013\",\"marker\":{\"color\":\"#B6E880\",\"symbol\":\"circle\"},\"mode\":\"markers\",\"name\":\"F9 v1.1 B1013\",\"orientation\":\"v\",\"showlegend\":true,\"x\":[570.0],\"xaxis\":\"x\",\"y\":[0],\"yaxis\":\"y\",\"type\":\"scatter\"},{\"hovertemplate\":\"Booster Version=F9 v1.1 B1014<br>Payload Mass (kg)=%{x}<br>class=%{y}<extra></extra>\",\"legendgroup\":\"F9 v1.1 B1014\",\"marker\":{\"color\":\"#FF97FF\",\"symbol\":\"circle\"},\"mode\":\"markers\",\"name\":\"F9 v1.1 B1014\",\"orientation\":\"v\",\"showlegend\":true,\"x\":[4159.0],\"xaxis\":\"x\",\"y\":[0],\"yaxis\":\"y\",\"type\":\"scatter\"},{\"hovertemplate\":\"Booster Version=F9 v1.1 B1015<br>Payload Mass (kg)=%{x}<br>class=%{y}<extra></extra>\",\"legendgroup\":\"F9 v1.1 B1015\",\"marker\":{\"color\":\"#FECB52\",\"symbol\":\"circle\"},\"mode\":\"markers\",\"name\":\"F9 v1.1 B1015\",\"orientation\":\"v\",\"showlegend\":true,\"x\":[1898.0],\"xaxis\":\"x\",\"y\":[0],\"yaxis\":\"y\",\"type\":\"scatter\"},{\"hovertemplate\":\"Booster Version=F9 v1.1 B1016<br>Payload Mass (kg)=%{x}<br>class=%{y}<extra></extra>\",\"legendgroup\":\"F9 v1.1 B1016\",\"marker\":{\"color\":\"#636efa\",\"symbol\":\"circle\"},\"mode\":\"markers\",\"name\":\"F9 v1.1 B1016\",\"orientation\":\"v\",\"showlegend\":true,\"x\":[4707.0],\"xaxis\":\"x\",\"y\":[0],\"yaxis\":\"y\",\"type\":\"scatter\"},{\"hovertemplate\":\"Booster Version=F9 v1.1 B1018<br>Payload Mass (kg)=%{x}<br>class=%{y}<extra></extra>\",\"legendgroup\":\"F9 v1.1 B1018\",\"marker\":{\"color\":\"#EF553B\",\"symbol\":\"circle\"},\"mode\":\"markers\",\"name\":\"F9 v1.1 B1018\",\"orientation\":\"v\",\"showlegend\":true,\"x\":[1952.0],\"xaxis\":\"x\",\"y\":[1],\"yaxis\":\"y\",\"type\":\"scatter\"},{\"hovertemplate\":\"Booster Version=F9 FT B1019<br>Payload Mass (kg)=%{x}<br>class=%{y}<extra></extra>\",\"legendgroup\":\"F9 FT B1019\",\"marker\":{\"color\":\"#00cc96\",\"symbol\":\"circle\"},\"mode\":\"markers\",\"name\":\"F9 FT B1019\",\"orientation\":\"v\",\"showlegend\":true,\"x\":[2034.0],\"xaxis\":\"x\",\"y\":[1],\"yaxis\":\"y\",\"type\":\"scatter\"},{\"hovertemplate\":\"Booster Version=F9 FT B1020<br>Payload Mass (kg)=%{x}<br>class=%{y}<extra></extra>\",\"legendgroup\":\"F9 FT B1020\",\"marker\":{\"color\":\"#ab63fa\",\"symbol\":\"circle\"},\"mode\":\"markers\",\"name\":\"F9 FT B1020\",\"orientation\":\"v\",\"showlegend\":true,\"x\":[5271.0],\"xaxis\":\"x\",\"y\":[0],\"yaxis\":\"y\",\"type\":\"scatter\"},{\"hovertemplate\":\"Booster Version=F9 FT B1021.1<br>Payload Mass (kg)=%{x}<br>class=%{y}<extra></extra>\",\"legendgroup\":\"F9 FT B1021.1\",\"marker\":{\"color\":\"#FFA15A\",\"symbol\":\"circle\"},\"mode\":\"markers\",\"name\":\"F9 FT B1021.1\",\"orientation\":\"v\",\"showlegend\":true,\"x\":[3136.0],\"xaxis\":\"x\",\"y\":[1],\"yaxis\":\"y\",\"type\":\"scatter\"},{\"hovertemplate\":\"Booster Version=F9 FT B1022<br>Payload Mass (kg)=%{x}<br>class=%{y}<extra></extra>\",\"legendgroup\":\"F9 FT B1022\",\"marker\":{\"color\":\"#19d3f3\",\"symbol\":\"circle\"},\"mode\":\"markers\",\"name\":\"F9 FT B1022\",\"orientation\":\"v\",\"showlegend\":true,\"x\":[4696.0],\"xaxis\":\"x\",\"y\":[1],\"yaxis\":\"y\",\"type\":\"scatter\"},{\"hovertemplate\":\"Booster Version=F9 FT B1023.1<br>Payload Mass (kg)=%{x}<br>class=%{y}<extra></extra>\",\"legendgroup\":\"F9 FT B1023.1\",\"marker\":{\"color\":\"#FF6692\",\"symbol\":\"circle\"},\"mode\":\"markers\",\"name\":\"F9 FT B1023.1\",\"orientation\":\"v\",\"showlegend\":true,\"x\":[3100.0],\"xaxis\":\"x\",\"y\":[1],\"yaxis\":\"y\",\"type\":\"scatter\"},{\"hovertemplate\":\"Booster Version=F9 FT B1024<br>Payload Mass (kg)=%{x}<br>class=%{y}<extra></extra>\",\"legendgroup\":\"F9 FT B1024\",\"marker\":{\"color\":\"#B6E880\",\"symbol\":\"circle\"},\"mode\":\"markers\",\"name\":\"F9 FT B1024\",\"orientation\":\"v\",\"showlegend\":true,\"x\":[3600.0],\"xaxis\":\"x\",\"y\":[0],\"yaxis\":\"y\",\"type\":\"scatter\"},{\"hovertemplate\":\"Booster Version=F9 FT B1025.1<br>Payload Mass (kg)=%{x}<br>class=%{y}<extra></extra>\",\"legendgroup\":\"F9 FT B1025.1\",\"marker\":{\"color\":\"#FF97FF\",\"symbol\":\"circle\"},\"mode\":\"markers\",\"name\":\"F9 FT B1025.1\",\"orientation\":\"v\",\"showlegend\":true,\"x\":[2257.0],\"xaxis\":\"x\",\"y\":[1],\"yaxis\":\"y\",\"type\":\"scatter\"},{\"hovertemplate\":\"Booster Version=F9 FT B1026<br>Payload Mass (kg)=%{x}<br>class=%{y}<extra></extra>\",\"legendgroup\":\"F9 FT B1026\",\"marker\":{\"color\":\"#FECB52\",\"symbol\":\"circle\"},\"mode\":\"markers\",\"name\":\"F9 FT B1026\",\"orientation\":\"v\",\"showlegend\":true,\"x\":[4600.0],\"xaxis\":\"x\",\"y\":[1],\"yaxis\":\"y\",\"type\":\"scatter\"},{\"hovertemplate\":\"Booster Version=F9 v1.1  B1003<br>Payload Mass (kg)=%{x}<br>class=%{y}<extra></extra>\",\"legendgroup\":\"F9 v1.1  B1003\",\"marker\":{\"color\":\"#636efa\",\"symbol\":\"circle\"},\"mode\":\"markers\",\"name\":\"F9 v1.1  B1003\",\"orientation\":\"v\",\"showlegend\":true,\"x\":[500.0],\"xaxis\":\"x\",\"y\":[0],\"yaxis\":\"y\",\"type\":\"scatter\"},{\"hovertemplate\":\"Booster Version=F9 v1.1 B1017<br>Payload Mass (kg)=%{x}<br>class=%{y}<extra></extra>\",\"legendgroup\":\"F9 v1.1 B1017\",\"marker\":{\"color\":\"#EF553B\",\"symbol\":\"circle\"},\"mode\":\"markers\",\"name\":\"F9 v1.1 B1017\",\"orientation\":\"v\",\"showlegend\":true,\"x\":[553.0],\"xaxis\":\"x\",\"y\":[0],\"yaxis\":\"y\",\"type\":\"scatter\"},{\"hovertemplate\":\"Booster Version=F9 FT B1029.1<br>Payload Mass (kg)=%{x}<br>class=%{y}<extra></extra>\",\"legendgroup\":\"F9 FT B1029.1\",\"marker\":{\"color\":\"#00cc96\",\"symbol\":\"circle\"},\"mode\":\"markers\",\"name\":\"F9 FT B1029.1\",\"orientation\":\"v\",\"showlegend\":true,\"x\":[9600.0],\"xaxis\":\"x\",\"y\":[1],\"yaxis\":\"y\",\"type\":\"scatter\"},{\"hovertemplate\":\"Booster Version=F9 FT B1036.1<br>Payload Mass (kg)=%{x}<br>class=%{y}<extra></extra>\",\"legendgroup\":\"F9 FT B1036.1\",\"marker\":{\"color\":\"#ab63fa\",\"symbol\":\"circle\"},\"mode\":\"markers\",\"name\":\"F9 FT B1036.1\",\"orientation\":\"v\",\"showlegend\":true,\"x\":[9600.0],\"xaxis\":\"x\",\"y\":[1],\"yaxis\":\"y\",\"type\":\"scatter\"},{\"hovertemplate\":\"Booster Version=F9 FT B1038.1<br>Payload Mass (kg)=%{x}<br>class=%{y}<extra></extra>\",\"legendgroup\":\"F9 FT B1038.1\",\"marker\":{\"color\":\"#FFA15A\",\"symbol\":\"circle\"},\"mode\":\"markers\",\"name\":\"F9 FT B1038.1\",\"orientation\":\"v\",\"showlegend\":true,\"x\":[475.0],\"xaxis\":\"x\",\"y\":[1],\"yaxis\":\"y\",\"type\":\"scatter\"},{\"hovertemplate\":\"Booster Version=F9 B4 B1041.1<br>Payload Mass (kg)=%{x}<br>class=%{y}<extra></extra>\",\"legendgroup\":\"F9 B4 B1041.1\",\"marker\":{\"color\":\"#19d3f3\",\"symbol\":\"circle\"},\"mode\":\"markers\",\"name\":\"F9 B4 B1041.1\",\"orientation\":\"v\",\"showlegend\":true,\"x\":[9600.0],\"xaxis\":\"x\",\"y\":[1],\"yaxis\":\"y\",\"type\":\"scatter\"},{\"hovertemplate\":\"Booster Version=F9 FT  B1036.2<br>Payload Mass (kg)=%{x}<br>class=%{y}<extra></extra>\",\"legendgroup\":\"F9 FT  B1036.2\",\"marker\":{\"color\":\"#FF6692\",\"symbol\":\"circle\"},\"mode\":\"markers\",\"name\":\"F9 FT  B1036.2\",\"orientation\":\"v\",\"showlegend\":true,\"x\":[9600.0],\"xaxis\":\"x\",\"y\":[0],\"yaxis\":\"y\",\"type\":\"scatter\"},{\"hovertemplate\":\"Booster Version=F9 FT  B1038.2<br>Payload Mass (kg)=%{x}<br>class=%{y}<extra></extra>\",\"legendgroup\":\"F9 FT  B1038.2\",\"marker\":{\"color\":\"#B6E880\",\"symbol\":\"circle\"},\"mode\":\"markers\",\"name\":\"F9 FT  B1038.2\",\"orientation\":\"v\",\"showlegend\":true,\"x\":[2150.0],\"xaxis\":\"x\",\"y\":[0],\"yaxis\":\"y\",\"type\":\"scatter\"},{\"hovertemplate\":\"Booster Version=F9 B4  B1041.2<br>Payload Mass (kg)=%{x}<br>class=%{y}<extra></extra>\",\"legendgroup\":\"F9 B4  B1041.2\",\"marker\":{\"color\":\"#FF97FF\",\"symbol\":\"circle\"},\"mode\":\"markers\",\"name\":\"F9 B4  B1041.2\",\"orientation\":\"v\",\"showlegend\":true,\"x\":[9600.0],\"xaxis\":\"x\",\"y\":[0],\"yaxis\":\"y\",\"type\":\"scatter\"},{\"hovertemplate\":\"Booster Version=F9 B4  B1043.2<br>Payload Mass (kg)=%{x}<br>class=%{y}<extra></extra>\",\"legendgroup\":\"F9 B4  B1043.2\",\"marker\":{\"color\":\"#FECB52\",\"symbol\":\"circle\"},\"mode\":\"markers\",\"name\":\"F9 B4  B1043.2\",\"orientation\":\"v\",\"showlegend\":true,\"x\":[6460.0],\"xaxis\":\"x\",\"y\":[0],\"yaxis\":\"y\",\"type\":\"scatter\"},{\"hovertemplate\":\"Booster Version=F9 FT B1031.1<br>Payload Mass (kg)=%{x}<br>class=%{y}<extra></extra>\",\"legendgroup\":\"F9 FT B1031.1\",\"marker\":{\"color\":\"#636efa\",\"symbol\":\"circle\"},\"mode\":\"markers\",\"name\":\"F9 FT B1031.1\",\"orientation\":\"v\",\"showlegend\":true,\"x\":[2490.0],\"xaxis\":\"x\",\"y\":[1],\"yaxis\":\"y\",\"type\":\"scatter\"},{\"hovertemplate\":\"Booster Version=F9 FT B1030<br>Payload Mass (kg)=%{x}<br>class=%{y}<extra></extra>\",\"legendgroup\":\"F9 FT B1030\",\"marker\":{\"color\":\"#EF553B\",\"symbol\":\"circle\"},\"mode\":\"markers\",\"name\":\"F9 FT B1030\",\"orientation\":\"v\",\"showlegend\":true,\"x\":[5600.0],\"xaxis\":\"x\",\"y\":[0],\"yaxis\":\"y\",\"type\":\"scatter\"},{\"hovertemplate\":\"Booster Version=F9 FT  B1021.2<br>Payload Mass (kg)=%{x}<br>class=%{y}<extra></extra>\",\"legendgroup\":\"F9 FT  B1021.2\",\"marker\":{\"color\":\"#00cc96\",\"symbol\":\"circle\"},\"mode\":\"markers\",\"name\":\"F9 FT  B1021.2\",\"orientation\":\"v\",\"showlegend\":true,\"x\":[5300.0],\"xaxis\":\"x\",\"y\":[1],\"yaxis\":\"y\",\"type\":\"scatter\"},{\"hovertemplate\":\"Booster Version=F9 FT B1032.1<br>Payload Mass (kg)=%{x}<br>class=%{y}<extra></extra>\",\"legendgroup\":\"F9 FT B1032.1\",\"marker\":{\"color\":\"#ab63fa\",\"symbol\":\"circle\"},\"mode\":\"markers\",\"name\":\"F9 FT B1032.1\",\"orientation\":\"v\",\"showlegend\":true,\"x\":[3696.65],\"xaxis\":\"x\",\"y\":[1],\"yaxis\":\"y\",\"type\":\"scatter\"},{\"hovertemplate\":\"Booster Version=F9 FT B1034<br>Payload Mass (kg)=%{x}<br>class=%{y}<extra></extra>\",\"legendgroup\":\"F9 FT B1034\",\"marker\":{\"color\":\"#FFA15A\",\"symbol\":\"circle\"},\"mode\":\"markers\",\"name\":\"F9 FT B1034\",\"orientation\":\"v\",\"showlegend\":true,\"x\":[6070.0],\"xaxis\":\"x\",\"y\":[0],\"yaxis\":\"y\",\"type\":\"scatter\"},{\"hovertemplate\":\"Booster Version=F9 FT B1035.1<br>Payload Mass (kg)=%{x}<br>class=%{y}<extra></extra>\",\"legendgroup\":\"F9 FT B1035.1\",\"marker\":{\"color\":\"#19d3f3\",\"symbol\":\"circle\"},\"mode\":\"markers\",\"name\":\"F9 FT B1035.1\",\"orientation\":\"v\",\"showlegend\":true,\"x\":[2708.0],\"xaxis\":\"x\",\"y\":[1],\"yaxis\":\"y\",\"type\":\"scatter\"},{\"hovertemplate\":\"Booster Version=F9 FT  B1029.2<br>Payload Mass (kg)=%{x}<br>class=%{y}<extra></extra>\",\"legendgroup\":\"F9 FT  B1029.2\",\"marker\":{\"color\":\"#FF6692\",\"symbol\":\"circle\"},\"mode\":\"markers\",\"name\":\"F9 FT  B1029.2\",\"orientation\":\"v\",\"showlegend\":true,\"x\":[3669.0],\"xaxis\":\"x\",\"y\":[1],\"yaxis\":\"y\",\"type\":\"scatter\"},{\"hovertemplate\":\"Booster Version=F9 FT B1037<br>Payload Mass (kg)=%{x}<br>class=%{y}<extra></extra>\",\"legendgroup\":\"F9 FT B1037\",\"marker\":{\"color\":\"#B6E880\",\"symbol\":\"circle\"},\"mode\":\"markers\",\"name\":\"F9 FT B1037\",\"orientation\":\"v\",\"showlegend\":true,\"x\":[6761.0],\"xaxis\":\"x\",\"y\":[0],\"yaxis\":\"y\",\"type\":\"scatter\"},{\"hovertemplate\":\"Booster Version=F9 B4 B1039.1<br>Payload Mass (kg)=%{x}<br>class=%{y}<extra></extra>\",\"legendgroup\":\"F9 B4 B1039.1\",\"marker\":{\"color\":\"#FF97FF\",\"symbol\":\"circle\"},\"mode\":\"markers\",\"name\":\"F9 B4 B1039.1\",\"orientation\":\"v\",\"showlegend\":true,\"x\":[3310.0],\"xaxis\":\"x\",\"y\":[1],\"yaxis\":\"y\",\"type\":\"scatter\"},{\"hovertemplate\":\"Booster Version=F9 B4 B1040.1<br>Payload Mass (kg)=%{x}<br>class=%{y}<extra></extra>\",\"legendgroup\":\"F9 B4 B1040.1\",\"marker\":{\"color\":\"#FECB52\",\"symbol\":\"circle\"},\"mode\":\"markers\",\"name\":\"F9 B4 B1040.1\",\"orientation\":\"v\",\"showlegend\":true,\"x\":[4990.0],\"xaxis\":\"x\",\"y\":[1],\"yaxis\":\"y\",\"type\":\"scatter\"},{\"hovertemplate\":\"Booster Version=F9 FT  B1031.2<br>Payload Mass (kg)=%{x}<br>class=%{y}<extra></extra>\",\"legendgroup\":\"F9 FT  B1031.2\",\"marker\":{\"color\":\"#636efa\",\"symbol\":\"circle\"},\"mode\":\"markers\",\"name\":\"F9 FT  B1031.2\",\"orientation\":\"v\",\"showlegend\":true,\"x\":[5200.0],\"xaxis\":\"x\",\"y\":[1],\"yaxis\":\"y\",\"type\":\"scatter\"},{\"hovertemplate\":\"Booster Version=F9 B4 B1042.1<br>Payload Mass (kg)=%{x}<br>class=%{y}<extra></extra>\",\"legendgroup\":\"F9 B4 B1042.1\",\"marker\":{\"color\":\"#EF553B\",\"symbol\":\"circle\"},\"mode\":\"markers\",\"name\":\"F9 B4 B1042.1\",\"orientation\":\"v\",\"showlegend\":true,\"x\":[3500.0],\"xaxis\":\"x\",\"y\":[1],\"yaxis\":\"y\",\"type\":\"scatter\"},{\"hovertemplate\":\"Booster Version=F9 B5  B1046.1<br>Payload Mass (kg)=%{x}<br>class=%{y}<extra></extra>\",\"legendgroup\":\"F9 B5  B1046.1\",\"marker\":{\"color\":\"#00cc96\",\"symbol\":\"circle\"},\"mode\":\"markers\",\"name\":\"F9 B5  B1046.1\",\"orientation\":\"v\",\"showlegend\":true,\"x\":[3600.0],\"xaxis\":\"x\",\"y\":[1],\"yaxis\":\"y\",\"type\":\"scatter\"},{\"hovertemplate\":\"Booster Version=F9 FT  B1035.2<br>Payload Mass (kg)=%{x}<br>class=%{y}<extra></extra>\",\"legendgroup\":\"F9 FT  B1035.2\",\"marker\":{\"color\":\"#ab63fa\",\"symbol\":\"circle\"},\"mode\":\"markers\",\"name\":\"F9 FT  B1035.2\",\"orientation\":\"v\",\"showlegend\":true,\"x\":[2205.0],\"xaxis\":\"x\",\"y\":[1],\"yaxis\":\"y\",\"type\":\"scatter\"},{\"hovertemplate\":\"Booster Version=F9 B4 B1043.1<br>Payload Mass (kg)=%{x}<br>class=%{y}<extra></extra>\",\"legendgroup\":\"F9 B4 B1043.1\",\"marker\":{\"color\":\"#FFA15A\",\"symbol\":\"circle\"},\"mode\":\"markers\",\"name\":\"F9 B4 B1043.1\",\"orientation\":\"v\",\"showlegend\":true,\"x\":[3696.65],\"xaxis\":\"x\",\"y\":[1],\"yaxis\":\"y\",\"type\":\"scatter\"},{\"hovertemplate\":\"Booster Version=F9 FT  B1032.2<br>Payload Mass (kg)=%{x}<br>class=%{y}<extra></extra>\",\"legendgroup\":\"F9 FT  B1032.2\",\"marker\":{\"color\":\"#19d3f3\",\"symbol\":\"circle\"},\"mode\":\"markers\",\"name\":\"F9 FT  B1032.2\",\"orientation\":\"v\",\"showlegend\":true,\"x\":[4230.0],\"xaxis\":\"x\",\"y\":[0],\"yaxis\":\"y\",\"type\":\"scatter\"},{\"hovertemplate\":\"Booster Version=F9 B4 B1044<br>Payload Mass (kg)=%{x}<br>class=%{y}<extra></extra>\",\"legendgroup\":\"F9 B4 B1044\",\"marker\":{\"color\":\"#FF6692\",\"symbol\":\"circle\"},\"mode\":\"markers\",\"name\":\"F9 B4 B1044\",\"orientation\":\"v\",\"showlegend\":true,\"x\":[6092.0],\"xaxis\":\"x\",\"y\":[0],\"yaxis\":\"y\",\"type\":\"scatter\"},{\"hovertemplate\":\"Booster Version=F9 B4  B1039.2<br>Payload Mass (kg)=%{x}<br>class=%{y}<extra></extra>\",\"legendgroup\":\"F9 B4  B1039.2\",\"marker\":{\"color\":\"#B6E880\",\"symbol\":\"circle\"},\"mode\":\"markers\",\"name\":\"F9 B4  B1039.2\",\"orientation\":\"v\",\"showlegend\":true,\"x\":[2647.0],\"xaxis\":\"x\",\"y\":[0],\"yaxis\":\"y\",\"type\":\"scatter\"},{\"hovertemplate\":\"Booster Version=F9 B4 B1045.1<br>Payload Mass (kg)=%{x}<br>class=%{y}<extra></extra>\",\"legendgroup\":\"F9 B4 B1045.1\",\"marker\":{\"color\":\"#FF97FF\",\"symbol\":\"circle\"},\"mode\":\"markers\",\"name\":\"F9 B4 B1045.1\",\"orientation\":\"v\",\"showlegend\":true,\"x\":[362.0],\"xaxis\":\"x\",\"y\":[1],\"yaxis\":\"y\",\"type\":\"scatter\"},{\"hovertemplate\":\"Booster Version=F9 B4  B1040.2<br>Payload Mass (kg)=%{x}<br>class=%{y}<extra></extra>\",\"legendgroup\":\"F9 B4  B1040.2\",\"marker\":{\"color\":\"#FECB52\",\"symbol\":\"circle\"},\"mode\":\"markers\",\"name\":\"F9 B4  B1040.2\",\"orientation\":\"v\",\"showlegend\":true,\"x\":[5384.0],\"xaxis\":\"x\",\"y\":[0],\"yaxis\":\"y\",\"type\":\"scatter\"}],                        {\"template\":{\"data\":{\"histogram2dcontour\":[{\"type\":\"histogram2dcontour\",\"colorbar\":{\"outlinewidth\":0,\"ticks\":\"\"},\"colorscale\":[[0.0,\"#0d0887\"],[0.1111111111111111,\"#46039f\"],[0.2222222222222222,\"#7201a8\"],[0.3333333333333333,\"#9c179e\"],[0.4444444444444444,\"#bd3786\"],[0.5555555555555556,\"#d8576b\"],[0.6666666666666666,\"#ed7953\"],[0.7777777777777778,\"#fb9f3a\"],[0.8888888888888888,\"#fdca26\"],[1.0,\"#f0f921\"]]}],\"choropleth\":[{\"type\":\"choropleth\",\"colorbar\":{\"outlinewidth\":0,\"ticks\":\"\"}}],\"histogram2d\":[{\"type\":\"histogram2d\",\"colorbar\":{\"outlinewidth\":0,\"ticks\":\"\"},\"colorscale\":[[0.0,\"#0d0887\"],[0.1111111111111111,\"#46039f\"],[0.2222222222222222,\"#7201a8\"],[0.3333333333333333,\"#9c179e\"],[0.4444444444444444,\"#bd3786\"],[0.5555555555555556,\"#d8576b\"],[0.6666666666666666,\"#ed7953\"],[0.7777777777777778,\"#fb9f3a\"],[0.8888888888888888,\"#fdca26\"],[1.0,\"#f0f921\"]]}],\"heatmap\":[{\"type\":\"heatmap\",\"colorbar\":{\"outlinewidth\":0,\"ticks\":\"\"},\"colorscale\":[[0.0,\"#0d0887\"],[0.1111111111111111,\"#46039f\"],[0.2222222222222222,\"#7201a8\"],[0.3333333333333333,\"#9c179e\"],[0.4444444444444444,\"#bd3786\"],[0.5555555555555556,\"#d8576b\"],[0.6666666666666666,\"#ed7953\"],[0.7777777777777778,\"#fb9f3a\"],[0.8888888888888888,\"#fdca26\"],[1.0,\"#f0f921\"]]}],\"heatmapgl\":[{\"type\":\"heatmapgl\",\"colorbar\":{\"outlinewidth\":0,\"ticks\":\"\"},\"colorscale\":[[0.0,\"#0d0887\"],[0.1111111111111111,\"#46039f\"],[0.2222222222222222,\"#7201a8\"],[0.3333333333333333,\"#9c179e\"],[0.4444444444444444,\"#bd3786\"],[0.5555555555555556,\"#d8576b\"],[0.6666666666666666,\"#ed7953\"],[0.7777777777777778,\"#fb9f3a\"],[0.8888888888888888,\"#fdca26\"],[1.0,\"#f0f921\"]]}],\"contourcarpet\":[{\"type\":\"contourcarpet\",\"colorbar\":{\"outlinewidth\":0,\"ticks\":\"\"}}],\"contour\":[{\"type\":\"contour\",\"colorbar\":{\"outlinewidth\":0,\"ticks\":\"\"},\"colorscale\":[[0.0,\"#0d0887\"],[0.1111111111111111,\"#46039f\"],[0.2222222222222222,\"#7201a8\"],[0.3333333333333333,\"#9c179e\"],[0.4444444444444444,\"#bd3786\"],[0.5555555555555556,\"#d8576b\"],[0.6666666666666666,\"#ed7953\"],[0.7777777777777778,\"#fb9f3a\"],[0.8888888888888888,\"#fdca26\"],[1.0,\"#f0f921\"]]}],\"surface\":[{\"type\":\"surface\",\"colorbar\":{\"outlinewidth\":0,\"ticks\":\"\"},\"colorscale\":[[0.0,\"#0d0887\"],[0.1111111111111111,\"#46039f\"],[0.2222222222222222,\"#7201a8\"],[0.3333333333333333,\"#9c179e\"],[0.4444444444444444,\"#bd3786\"],[0.5555555555555556,\"#d8576b\"],[0.6666666666666666,\"#ed7953\"],[0.7777777777777778,\"#fb9f3a\"],[0.8888888888888888,\"#fdca26\"],[1.0,\"#f0f921\"]]}],\"mesh3d\":[{\"type\":\"mesh3d\",\"colorbar\":{\"outlinewidth\":0,\"ticks\":\"\"}}],\"scatter\":[{\"fillpattern\":{\"fillmode\":\"overlay\",\"size\":10,\"solidity\":0.2},\"type\":\"scatter\"}],\"parcoords\":[{\"type\":\"parcoords\",\"line\":{\"colorbar\":{\"outlinewidth\":0,\"ticks\":\"\"}}}],\"scatterpolargl\":[{\"type\":\"scatterpolargl\",\"marker\":{\"colorbar\":{\"outlinewidth\":0,\"ticks\":\"\"}}}],\"bar\":[{\"error_x\":{\"color\":\"#2a3f5f\"},\"error_y\":{\"color\":\"#2a3f5f\"},\"marker\":{\"line\":{\"color\":\"#E5ECF6\",\"width\":0.5},\"pattern\":{\"fillmode\":\"overlay\",\"size\":10,\"solidity\":0.2}},\"type\":\"bar\"}],\"scattergeo\":[{\"type\":\"scattergeo\",\"marker\":{\"colorbar\":{\"outlinewidth\":0,\"ticks\":\"\"}}}],\"scatterpolar\":[{\"type\":\"scatterpolar\",\"marker\":{\"colorbar\":{\"outlinewidth\":0,\"ticks\":\"\"}}}],\"histogram\":[{\"marker\":{\"pattern\":{\"fillmode\":\"overlay\",\"size\":10,\"solidity\":0.2}},\"type\":\"histogram\"}],\"scattergl\":[{\"type\":\"scattergl\",\"marker\":{\"colorbar\":{\"outlinewidth\":0,\"ticks\":\"\"}}}],\"scatter3d\":[{\"type\":\"scatter3d\",\"line\":{\"colorbar\":{\"outlinewidth\":0,\"ticks\":\"\"}},\"marker\":{\"colorbar\":{\"outlinewidth\":0,\"ticks\":\"\"}}}],\"scattermapbox\":[{\"type\":\"scattermapbox\",\"marker\":{\"colorbar\":{\"outlinewidth\":0,\"ticks\":\"\"}}}],\"scatterternary\":[{\"type\":\"scatterternary\",\"marker\":{\"colorbar\":{\"outlinewidth\":0,\"ticks\":\"\"}}}],\"scattercarpet\":[{\"type\":\"scattercarpet\",\"marker\":{\"colorbar\":{\"outlinewidth\":0,\"ticks\":\"\"}}}],\"carpet\":[{\"aaxis\":{\"endlinecolor\":\"#2a3f5f\",\"gridcolor\":\"white\",\"linecolor\":\"white\",\"minorgridcolor\":\"white\",\"startlinecolor\":\"#2a3f5f\"},\"baxis\":{\"endlinecolor\":\"#2a3f5f\",\"gridcolor\":\"white\",\"linecolor\":\"white\",\"minorgridcolor\":\"white\",\"startlinecolor\":\"#2a3f5f\"},\"type\":\"carpet\"}],\"table\":[{\"cells\":{\"fill\":{\"color\":\"#EBF0F8\"},\"line\":{\"color\":\"white\"}},\"header\":{\"fill\":{\"color\":\"#C8D4E3\"},\"line\":{\"color\":\"white\"}},\"type\":\"table\"}],\"barpolar\":[{\"marker\":{\"line\":{\"color\":\"#E5ECF6\",\"width\":0.5},\"pattern\":{\"fillmode\":\"overlay\",\"size\":10,\"solidity\":0.2}},\"type\":\"barpolar\"}],\"pie\":[{\"automargin\":true,\"type\":\"pie\"}]},\"layout\":{\"autotypenumbers\":\"strict\",\"colorway\":[\"#636efa\",\"#EF553B\",\"#00cc96\",\"#ab63fa\",\"#FFA15A\",\"#19d3f3\",\"#FF6692\",\"#B6E880\",\"#FF97FF\",\"#FECB52\"],\"font\":{\"color\":\"#2a3f5f\"},\"hovermode\":\"closest\",\"hoverlabel\":{\"align\":\"left\"},\"paper_bgcolor\":\"white\",\"plot_bgcolor\":\"#E5ECF6\",\"polar\":{\"bgcolor\":\"#E5ECF6\",\"angularaxis\":{\"gridcolor\":\"white\",\"linecolor\":\"white\",\"ticks\":\"\"},\"radialaxis\":{\"gridcolor\":\"white\",\"linecolor\":\"white\",\"ticks\":\"\"}},\"ternary\":{\"bgcolor\":\"#E5ECF6\",\"aaxis\":{\"gridcolor\":\"white\",\"linecolor\":\"white\",\"ticks\":\"\"},\"baxis\":{\"gridcolor\":\"white\",\"linecolor\":\"white\",\"ticks\":\"\"},\"caxis\":{\"gridcolor\":\"white\",\"linecolor\":\"white\",\"ticks\":\"\"}},\"coloraxis\":{\"colorbar\":{\"outlinewidth\":0,\"ticks\":\"\"}},\"colorscale\":{\"sequential\":[[0.0,\"#0d0887\"],[0.1111111111111111,\"#46039f\"],[0.2222222222222222,\"#7201a8\"],[0.3333333333333333,\"#9c179e\"],[0.4444444444444444,\"#bd3786\"],[0.5555555555555556,\"#d8576b\"],[0.6666666666666666,\"#ed7953\"],[0.7777777777777778,\"#fb9f3a\"],[0.8888888888888888,\"#fdca26\"],[1.0,\"#f0f921\"]],\"sequentialminus\":[[0.0,\"#0d0887\"],[0.1111111111111111,\"#46039f\"],[0.2222222222222222,\"#7201a8\"],[0.3333333333333333,\"#9c179e\"],[0.4444444444444444,\"#bd3786\"],[0.5555555555555556,\"#d8576b\"],[0.6666666666666666,\"#ed7953\"],[0.7777777777777778,\"#fb9f3a\"],[0.8888888888888888,\"#fdca26\"],[1.0,\"#f0f921\"]],\"diverging\":[[0,\"#8e0152\"],[0.1,\"#c51b7d\"],[0.2,\"#de77ae\"],[0.3,\"#f1b6da\"],[0.4,\"#fde0ef\"],[0.5,\"#f7f7f7\"],[0.6,\"#e6f5d0\"],[0.7,\"#b8e186\"],[0.8,\"#7fbc41\"],[0.9,\"#4d9221\"],[1,\"#276419\"]]},\"xaxis\":{\"gridcolor\":\"white\",\"linecolor\":\"white\",\"ticks\":\"\",\"title\":{\"standoff\":15},\"zerolinecolor\":\"white\",\"automargin\":true,\"zerolinewidth\":2},\"yaxis\":{\"gridcolor\":\"white\",\"linecolor\":\"white\",\"ticks\":\"\",\"title\":{\"standoff\":15},\"zerolinecolor\":\"white\",\"automargin\":true,\"zerolinewidth\":2},\"scene\":{\"xaxis\":{\"backgroundcolor\":\"#E5ECF6\",\"gridcolor\":\"white\",\"linecolor\":\"white\",\"showbackground\":true,\"ticks\":\"\",\"zerolinecolor\":\"white\",\"gridwidth\":2},\"yaxis\":{\"backgroundcolor\":\"#E5ECF6\",\"gridcolor\":\"white\",\"linecolor\":\"white\",\"showbackground\":true,\"ticks\":\"\",\"zerolinecolor\":\"white\",\"gridwidth\":2},\"zaxis\":{\"backgroundcolor\":\"#E5ECF6\",\"gridcolor\":\"white\",\"linecolor\":\"white\",\"showbackground\":true,\"ticks\":\"\",\"zerolinecolor\":\"white\",\"gridwidth\":2}},\"shapedefaults\":{\"line\":{\"color\":\"#2a3f5f\"}},\"annotationdefaults\":{\"arrowcolor\":\"#2a3f5f\",\"arrowhead\":0,\"arrowwidth\":1},\"geo\":{\"bgcolor\":\"white\",\"landcolor\":\"#E5ECF6\",\"subunitcolor\":\"white\",\"showland\":true,\"showlakes\":true,\"lakecolor\":\"white\"},\"title\":{\"x\":0.05},\"mapbox\":{\"style\":\"light\"}}},\"xaxis\":{\"anchor\":\"y\",\"domain\":[0.0,1.0],\"title\":{\"text\":\"Payload Mass (kg)\"}},\"yaxis\":{\"anchor\":\"x\",\"domain\":[0.0,1.0],\"title\":{\"text\":\"class\"}},\"legend\":{\"title\":{\"text\":\"Booster Version\"},\"tracegroupgap\":0},\"margin\":{\"t\":60}},                        {\"responsive\": true}                    ).then(function(){\n",
       "                            \n",
       "var gd = document.getElementById('31da20cf-4ac4-47b6-8401-61f566bf3a04');\n",
       "var x = new MutationObserver(function (mutations, observer) {{\n",
       "        var display = window.getComputedStyle(gd).display;\n",
       "        if (!display || display === 'none') {{\n",
       "            console.log([gd, 'removed!']);\n",
       "            Plotly.purge(gd);\n",
       "            observer.disconnect();\n",
       "        }}\n",
       "}});\n",
       "\n",
       "// Listen for the removal of the full notebook cells\n",
       "var notebookContainer = gd.closest('#notebook-container');\n",
       "if (notebookContainer) {{\n",
       "    x.observe(notebookContainer, {childList: true});\n",
       "}}\n",
       "\n",
       "// Listen for the clearing of the current output cell\n",
       "var outputEl = gd.closest('.output');\n",
       "if (outputEl) {{\n",
       "    x.observe(outputEl, {childList: true});\n",
       "}}\n",
       "\n",
       "                        })                };                });            </script>        </div>"
      ]
     },
     "metadata": {},
     "output_type": "display_data"
    }
   ],
   "source": [
    "entered_payload_range = [100,10000]\n",
    "fig = px.scatter(spacex_df.loc[(spacex_df['Payload Mass (kg)'] < entered_payload_range[1]) & (spacex_df['Payload Mass (kg)'] > entered_payload_range[0])],\n",
    "                 x=\"Payload Mass (kg)\",\n",
    "                 y=\"class\",\n",
    "                 color=\"Booster Version\")\n",
    "fig"
   ]
  },
  {
   "cell_type": "code",
   "execution_count": 4,
   "id": "19abeb71",
   "metadata": {},
   "outputs": [
    {
     "name": "stdout",
     "output_type": "stream",
     "text": [
      "Dash is running on http://127.0.0.1:8050/\n",
      "\n",
      "Dash is running on http://127.0.0.1:8050/\n",
      "\n",
      "Dash is running on http://127.0.0.1:8050/\n",
      "\n",
      "Dash is running on http://127.0.0.1:8050/\n",
      "\n",
      " * Serving Flask app \"__main__\" (lazy loading)\n",
      " * Environment: production\n",
      "\u001b[31m   WARNING: This is a development server. Do not use it in a production deployment.\u001b[0m\n",
      "\u001b[2m   Use a production WSGI server instead.\u001b[0m\n",
      " * Debug mode: off\n"
     ]
    }
   ],
   "source": [
    "from dash import Dash, dcc, html, Input, Output\n",
    "\n",
    "app = Dash(__name__)\n",
    "app.layout = html.Div([\n",
    "    dcc.Dropdown([{'label':'nyc','value':'NYC'}, {'label':'mtl','value':'MTL'}, 'SF'], 'NYC', id='demo-dropdown'),\n",
    "#     html.Div(id='dd-output-container')\n",
    "])\n",
    "\n",
    "\n",
    "# @app.callback(\n",
    "#     Output('dd-output-container', 'children'),\n",
    "#     Input('demo-dropdown', 'value')\n",
    "# )\n",
    "# def update_output(value):\n",
    "#     return f'You have selected {value}'\n",
    "\n",
    "\n",
    "if __name__ == '__main__':\n",
    "    app.run_server()"
   ]
  }
 ],
 "metadata": {
  "kernelspec": {
   "display_name": "Python 3 (ipykernel)",
   "language": "python",
   "name": "python3"
  },
  "language_info": {
   "codemirror_mode": {
    "name": "ipython",
    "version": 3
   },
   "file_extension": ".py",
   "mimetype": "text/x-python",
   "name": "python",
   "nbconvert_exporter": "python",
   "pygments_lexer": "ipython3",
   "version": "3.9.7"
  }
 },
 "nbformat": 4,
 "nbformat_minor": 5
}
